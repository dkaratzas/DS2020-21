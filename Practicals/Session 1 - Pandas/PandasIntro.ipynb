{
 "cells": [
  {
   "cell_type": "markdown",
   "id": "difficult-pakistan",
   "metadata": {},
   "source": [
    "# Introduction to Pandas"
   ]
  },
  {
   "cell_type": "markdown",
   "id": "happy-ranch",
   "metadata": {},
   "source": [
    "*Pandas* is a high-performance Python library that allows us to easily use and manipulate data structures such as tables and series.\n",
    "\n",
    "https://pandas.pydata.org/pandas-docs/stable/index.html\n",
    "\n",
    "It connects directly to *NumPy* and *MatPlotLib* to manage numerical operations and plotting. This notebook is a quick introduction to the module. You are encouraged to explore more, for example starting here:\n",
    "\n",
    "https://pandas.pydata.org/pandas-docs/stable/getting_started/intro_tutorials/index.html\n",
    "\n",
    "https://pandas.pydata.org/pandas-docs/stable/user_guide/index.html"
   ]
  },
  {
   "cell_type": "markdown",
   "id": "bacterial-processor",
   "metadata": {},
   "source": [
    "## Defining data frames (tables) and series in pandas"
   ]
  },
  {
   "cell_type": "code",
   "execution_count": 2,
   "id": "stainless-violation",
   "metadata": {},
   "outputs": [],
   "source": [
    "import pandas as pd"
   ]
  },
  {
   "cell_type": "markdown",
   "id": "respective-alliance",
   "metadata": {},
   "source": [
    "We will define a table of information about the students of our class. We will try to reproduce the following tabular structure in *pandas*\n",
    "\n",
    "| NIU     | Name              | Exam | Practicals |\n",
    "|:-------:|:-----------------:|:----:|:----------:|  \n",
    "| 111222  | Ned Stark         | 6.0  |    5.4     |   \n",
    "| 123123  | Robert Baratheon  | 8.5  |    7.5     |   \n",
    "| 234234  | Jaime Lannister   | 3.7  |    6.4     |   \n",
    "| 345345  | Catelyn Stark     | 9.0  |    8.6     |   \n",
    "| 456456  | Viserys Targaryen | 4.0  |    4.6     |   \n",
    "| 567567  | Jon Snow          | 6.8  |    4.3     |   \n",
    "| 678678  | Talisa Maegyr     | 7.6  |    0.0     |   \n",
    "\n",
    "This table in pandas will be represented by a **data frame** which is implemented by the class `pandas.DataFrame`. Each column in a data frame is a **series** which is implemented by the `pandas.Series` object."
   ]
  },
  {
   "cell_type": "markdown",
   "id": "sublime-basket",
   "metadata": {},
   "source": [
    "We will start with the first column, the NIU:"
   ]
  },
  {
   "cell_type": "code",
   "execution_count": 3,
   "id": "constitutional-airline",
   "metadata": {},
   "outputs": [
    {
     "name": "stdout",
     "output_type": "stream",
     "text": [
      "0    111222\n",
      "1    123123\n",
      "2    234234\n",
      "3    345345\n",
      "4    456456\n",
      "5    567567\n",
      "6    678678\n",
      "dtype: int64\n"
     ]
    }
   ],
   "source": [
    "seriesNIU = pd.Series( [111222, 123123, 234234, 345345, 456456, 567567, 678678] )\n",
    "print (seriesNIU)"
   ]
  },
  {
   "cell_type": "markdown",
   "id": "continuous-provider",
   "metadata": {},
   "source": [
    "See how each pandas added an extra column with indices. The structure of a series is like a dictionary, where each value has an index and can be retrieved by using its index. For example:"
   ]
  },
  {
   "cell_type": "code",
   "execution_count": 4,
   "id": "insured-williams",
   "metadata": {},
   "outputs": [
    {
     "data": {
      "text/plain": [
       "345345"
      ]
     },
     "execution_count": 4,
     "metadata": {},
     "output_type": "execute_result"
    }
   ],
   "source": [
    "seriesNIU[3]"
   ]
  },
  {
   "cell_type": "markdown",
   "id": "educated-delta",
   "metadata": {},
   "source": [
    "Let's define the rest of the columns of our table in the same way"
   ]
  },
  {
   "cell_type": "code",
   "execution_count": 5,
   "id": "written-presence",
   "metadata": {},
   "outputs": [],
   "source": [
    "seriesName = pd.Series( [\"Ned Stark\", \"Robert Baratheon\", \"Jaime Lannister\", \"Catelyn Stark\", \"Viserys Targaryen\", \"Jon Snow\", \"Talisa Maegyr\"] )\n",
    "seriesExam = pd.Series( [6.0, 8.5, 3.7, 9.0, 4.0, 6.8, 7.6])\n",
    "seriesPracticals = pd.Series( [5.4, 7.5, 6.4, 8.6, 4.6, 4.3, 0.0])"
   ]
  },
  {
   "cell_type": "markdown",
   "id": "executive-rates",
   "metadata": {},
   "source": [
    "Now we can combine the series (the columns) together into a data frame (a table). The idea is the same, a dataframe can be thought of as a dictionary of columns, where each column has its title and its data."
   ]
  },
  {
   "cell_type": "code",
   "execution_count": 6,
   "id": "involved-renaissance",
   "metadata": {},
   "outputs": [
    {
     "data": {
      "text/html": [
       "<div>\n",
       "<style scoped>\n",
       "    .dataframe tbody tr th:only-of-type {\n",
       "        vertical-align: middle;\n",
       "    }\n",
       "\n",
       "    .dataframe tbody tr th {\n",
       "        vertical-align: top;\n",
       "    }\n",
       "\n",
       "    .dataframe thead th {\n",
       "        text-align: right;\n",
       "    }\n",
       "</style>\n",
       "<table border=\"1\" class=\"dataframe\">\n",
       "  <thead>\n",
       "    <tr style=\"text-align: right;\">\n",
       "      <th></th>\n",
       "      <th>NIU</th>\n",
       "      <th>Name</th>\n",
       "      <th>Exam</th>\n",
       "      <th>Practicals</th>\n",
       "    </tr>\n",
       "  </thead>\n",
       "  <tbody>\n",
       "    <tr>\n",
       "      <th>0</th>\n",
       "      <td>111222</td>\n",
       "      <td>Ned Stark</td>\n",
       "      <td>6.0</td>\n",
       "      <td>5.4</td>\n",
       "    </tr>\n",
       "    <tr>\n",
       "      <th>1</th>\n",
       "      <td>123123</td>\n",
       "      <td>Robert Baratheon</td>\n",
       "      <td>8.5</td>\n",
       "      <td>7.5</td>\n",
       "    </tr>\n",
       "    <tr>\n",
       "      <th>2</th>\n",
       "      <td>234234</td>\n",
       "      <td>Jaime Lannister</td>\n",
       "      <td>3.7</td>\n",
       "      <td>6.4</td>\n",
       "    </tr>\n",
       "    <tr>\n",
       "      <th>3</th>\n",
       "      <td>345345</td>\n",
       "      <td>Catelyn Stark</td>\n",
       "      <td>9.0</td>\n",
       "      <td>8.6</td>\n",
       "    </tr>\n",
       "    <tr>\n",
       "      <th>4</th>\n",
       "      <td>456456</td>\n",
       "      <td>Viserys Targaryen</td>\n",
       "      <td>4.0</td>\n",
       "      <td>4.6</td>\n",
       "    </tr>\n",
       "    <tr>\n",
       "      <th>5</th>\n",
       "      <td>567567</td>\n",
       "      <td>Jon Snow</td>\n",
       "      <td>6.8</td>\n",
       "      <td>4.3</td>\n",
       "    </tr>\n",
       "    <tr>\n",
       "      <th>6</th>\n",
       "      <td>678678</td>\n",
       "      <td>Talisa Maegyr</td>\n",
       "      <td>7.6</td>\n",
       "      <td>0.0</td>\n",
       "    </tr>\n",
       "  </tbody>\n",
       "</table>\n",
       "</div>"
      ],
      "text/plain": [
       "      NIU               Name  Exam  Practicals\n",
       "0  111222          Ned Stark   6.0         5.4\n",
       "1  123123   Robert Baratheon   8.5         7.5\n",
       "2  234234    Jaime Lannister   3.7         6.4\n",
       "3  345345      Catelyn Stark   9.0         8.6\n",
       "4  456456  Viserys Targaryen   4.0         4.6\n",
       "5  567567           Jon Snow   6.8         4.3\n",
       "6  678678      Talisa Maegyr   7.6         0.0"
      ]
     },
     "execution_count": 6,
     "metadata": {},
     "output_type": "execute_result"
    }
   ],
   "source": [
    "d = {\"NIU\": seriesNIU,\n",
    "     \"Name\": seriesName,\n",
    "     \"Exam\": seriesExam,\n",
    "     \"Practicals\": seriesPracticals}\n",
    "\n",
    "dfStudents = pd.DataFrame(d)\n",
    "dfStudents"
   ]
  },
  {
   "cell_type": "markdown",
   "id": "lightweight-container",
   "metadata": {},
   "source": [
    "We can actually ask pandas to use our own custom indices. For example in this case, we could decide to use the NIUs as the indices. Let's tell pandas to use this column."
   ]
  },
  {
   "cell_type": "code",
   "execution_count": 7,
   "id": "collaborative-baseball",
   "metadata": {},
   "outputs": [
    {
     "data": {
      "text/html": [
       "<div>\n",
       "<style scoped>\n",
       "    .dataframe tbody tr th:only-of-type {\n",
       "        vertical-align: middle;\n",
       "    }\n",
       "\n",
       "    .dataframe tbody tr th {\n",
       "        vertical-align: top;\n",
       "    }\n",
       "\n",
       "    .dataframe thead th {\n",
       "        text-align: right;\n",
       "    }\n",
       "</style>\n",
       "<table border=\"1\" class=\"dataframe\">\n",
       "  <thead>\n",
       "    <tr style=\"text-align: right;\">\n",
       "      <th></th>\n",
       "      <th>Name</th>\n",
       "      <th>Exam</th>\n",
       "      <th>Practicals</th>\n",
       "    </tr>\n",
       "    <tr>\n",
       "      <th>NIU</th>\n",
       "      <th></th>\n",
       "      <th></th>\n",
       "      <th></th>\n",
       "    </tr>\n",
       "  </thead>\n",
       "  <tbody>\n",
       "    <tr>\n",
       "      <th>111222</th>\n",
       "      <td>Ned Stark</td>\n",
       "      <td>6.0</td>\n",
       "      <td>5.4</td>\n",
       "    </tr>\n",
       "    <tr>\n",
       "      <th>123123</th>\n",
       "      <td>Robert Baratheon</td>\n",
       "      <td>8.5</td>\n",
       "      <td>7.5</td>\n",
       "    </tr>\n",
       "    <tr>\n",
       "      <th>234234</th>\n",
       "      <td>Jaime Lannister</td>\n",
       "      <td>3.7</td>\n",
       "      <td>6.4</td>\n",
       "    </tr>\n",
       "    <tr>\n",
       "      <th>345345</th>\n",
       "      <td>Catelyn Stark</td>\n",
       "      <td>9.0</td>\n",
       "      <td>8.6</td>\n",
       "    </tr>\n",
       "    <tr>\n",
       "      <th>456456</th>\n",
       "      <td>Viserys Targaryen</td>\n",
       "      <td>4.0</td>\n",
       "      <td>4.6</td>\n",
       "    </tr>\n",
       "    <tr>\n",
       "      <th>567567</th>\n",
       "      <td>Jon Snow</td>\n",
       "      <td>6.8</td>\n",
       "      <td>4.3</td>\n",
       "    </tr>\n",
       "    <tr>\n",
       "      <th>678678</th>\n",
       "      <td>Talisa Maegyr</td>\n",
       "      <td>7.6</td>\n",
       "      <td>0.0</td>\n",
       "    </tr>\n",
       "  </tbody>\n",
       "</table>\n",
       "</div>"
      ],
      "text/plain": [
       "                     Name  Exam  Practicals\n",
       "NIU                                        \n",
       "111222          Ned Stark   6.0         5.4\n",
       "123123   Robert Baratheon   8.5         7.5\n",
       "234234    Jaime Lannister   3.7         6.4\n",
       "345345      Catelyn Stark   9.0         8.6\n",
       "456456  Viserys Targaryen   4.0         4.6\n",
       "567567           Jon Snow   6.8         4.3\n",
       "678678      Talisa Maegyr   7.6         0.0"
      ]
     },
     "execution_count": 7,
     "metadata": {},
     "output_type": "execute_result"
    }
   ],
   "source": [
    "dfStudents = dfStudents.set_index('NIU')\n",
    "dfStudents\n",
    "\n",
    "# An alternative way would be to make the change in place by calling:\n",
    "# dfStudents.set_index('NIU', inplace = True)"
   ]
  },
  {
   "cell_type": "markdown",
   "id": "indoor-dominant",
   "metadata": {},
   "source": [
    "We can ask for some quick information about a data frame by using `DataFrame.info()`. This tells us what columns we have, how many values there are in each column, their types, etc."
   ]
  },
  {
   "cell_type": "code",
   "execution_count": 8,
   "id": "cardiovascular-announcement",
   "metadata": {},
   "outputs": [
    {
     "name": "stdout",
     "output_type": "stream",
     "text": [
      "<class 'pandas.core.frame.DataFrame'>\n",
      "Int64Index: 7 entries, 111222 to 678678\n",
      "Data columns (total 3 columns):\n",
      " #   Column      Non-Null Count  Dtype  \n",
      "---  ------      --------------  -----  \n",
      " 0   Name        7 non-null      object \n",
      " 1   Exam        7 non-null      float64\n",
      " 2   Practicals  7 non-null      float64\n",
      "dtypes: float64(2), object(1)\n",
      "memory usage: 224.0+ bytes\n"
     ]
    }
   ],
   "source": [
    "dfStudents.info()"
   ]
  },
  {
   "cell_type": "markdown",
   "id": "activated-recommendation",
   "metadata": {},
   "source": [
    "Since a data frame is like a dictionary of columns, we can refer to each column by its name. For example, the following will return the columns of exam scores as a series:"
   ]
  },
  {
   "cell_type": "code",
   "execution_count": 9,
   "id": "average-brighton",
   "metadata": {},
   "outputs": [
    {
     "data": {
      "text/plain": [
       "NIU\n",
       "111222    6.0\n",
       "123123    8.5\n",
       "234234    3.7\n",
       "345345    9.0\n",
       "456456    4.0\n",
       "567567    6.8\n",
       "678678    7.6\n",
       "Name: Exam, dtype: float64"
      ]
     },
     "execution_count": 9,
     "metadata": {},
     "output_type": "execute_result"
    }
   ],
   "source": [
    "scores = dfStudents[\"Exam\"]\n",
    "scores"
   ]
  },
  {
   "cell_type": "markdown",
   "id": "electoral-familiar",
   "metadata": {},
   "source": [
    "See how our exam scores are now indexed using the NIU, as they should.\n",
    "\n",
    "We can also filter specific rows of our table by using a mask. By mask I mean a list (or series) of `True` and `False` values. An easy way to create a mask is by using bollean operations, for example"
   ]
  },
  {
   "cell_type": "code",
   "execution_count": 10,
   "id": "dependent-license",
   "metadata": {},
   "outputs": [
    {
     "data": {
      "text/plain": [
       "NIU\n",
       "111222     True\n",
       "123123     True\n",
       "234234    False\n",
       "345345     True\n",
       "456456    False\n",
       "567567     True\n",
       "678678     True\n",
       "Name: Exam, dtype: bool"
      ]
     },
     "execution_count": 10,
     "metadata": {},
     "output_type": "execute_result"
    }
   ],
   "source": [
    "passScoresMask = scores > 5.0\n",
    "passScoresMask"
   ]
  },
  {
   "cell_type": "markdown",
   "id": "marine-logic",
   "metadata": {},
   "source": [
    "we can then use this mask to retrieve specific rows (the `True` ones):"
   ]
  },
  {
   "cell_type": "code",
   "execution_count": 11,
   "id": "aging-folks",
   "metadata": {},
   "outputs": [
    {
     "data": {
      "text/html": [
       "<div>\n",
       "<style scoped>\n",
       "    .dataframe tbody tr th:only-of-type {\n",
       "        vertical-align: middle;\n",
       "    }\n",
       "\n",
       "    .dataframe tbody tr th {\n",
       "        vertical-align: top;\n",
       "    }\n",
       "\n",
       "    .dataframe thead th {\n",
       "        text-align: right;\n",
       "    }\n",
       "</style>\n",
       "<table border=\"1\" class=\"dataframe\">\n",
       "  <thead>\n",
       "    <tr style=\"text-align: right;\">\n",
       "      <th></th>\n",
       "      <th>Name</th>\n",
       "      <th>Exam</th>\n",
       "      <th>Practicals</th>\n",
       "    </tr>\n",
       "    <tr>\n",
       "      <th>NIU</th>\n",
       "      <th></th>\n",
       "      <th></th>\n",
       "      <th></th>\n",
       "    </tr>\n",
       "  </thead>\n",
       "  <tbody>\n",
       "    <tr>\n",
       "      <th>111222</th>\n",
       "      <td>Ned Stark</td>\n",
       "      <td>6.0</td>\n",
       "      <td>5.4</td>\n",
       "    </tr>\n",
       "    <tr>\n",
       "      <th>123123</th>\n",
       "      <td>Robert Baratheon</td>\n",
       "      <td>8.5</td>\n",
       "      <td>7.5</td>\n",
       "    </tr>\n",
       "    <tr>\n",
       "      <th>345345</th>\n",
       "      <td>Catelyn Stark</td>\n",
       "      <td>9.0</td>\n",
       "      <td>8.6</td>\n",
       "    </tr>\n",
       "    <tr>\n",
       "      <th>567567</th>\n",
       "      <td>Jon Snow</td>\n",
       "      <td>6.8</td>\n",
       "      <td>4.3</td>\n",
       "    </tr>\n",
       "    <tr>\n",
       "      <th>678678</th>\n",
       "      <td>Talisa Maegyr</td>\n",
       "      <td>7.6</td>\n",
       "      <td>0.0</td>\n",
       "    </tr>\n",
       "  </tbody>\n",
       "</table>\n",
       "</div>"
      ],
      "text/plain": [
       "                    Name  Exam  Practicals\n",
       "NIU                                       \n",
       "111222         Ned Stark   6.0         5.4\n",
       "123123  Robert Baratheon   8.5         7.5\n",
       "345345     Catelyn Stark   9.0         8.6\n",
       "567567          Jon Snow   6.8         4.3\n",
       "678678     Talisa Maegyr   7.6         0.0"
      ]
     },
     "execution_count": 11,
     "metadata": {},
     "output_type": "execute_result"
    }
   ],
   "source": [
    "dfStudents[passScoresMask]"
   ]
  },
  {
   "cell_type": "markdown",
   "id": "advised-holder",
   "metadata": {},
   "source": [
    "or directly:"
   ]
  },
  {
   "cell_type": "code",
   "execution_count": 12,
   "id": "medieval-growing",
   "metadata": {},
   "outputs": [
    {
     "data": {
      "text/html": [
       "<div>\n",
       "<style scoped>\n",
       "    .dataframe tbody tr th:only-of-type {\n",
       "        vertical-align: middle;\n",
       "    }\n",
       "\n",
       "    .dataframe tbody tr th {\n",
       "        vertical-align: top;\n",
       "    }\n",
       "\n",
       "    .dataframe thead th {\n",
       "        text-align: right;\n",
       "    }\n",
       "</style>\n",
       "<table border=\"1\" class=\"dataframe\">\n",
       "  <thead>\n",
       "    <tr style=\"text-align: right;\">\n",
       "      <th></th>\n",
       "      <th>Name</th>\n",
       "      <th>Exam</th>\n",
       "      <th>Practicals</th>\n",
       "    </tr>\n",
       "    <tr>\n",
       "      <th>NIU</th>\n",
       "      <th></th>\n",
       "      <th></th>\n",
       "      <th></th>\n",
       "    </tr>\n",
       "  </thead>\n",
       "  <tbody>\n",
       "    <tr>\n",
       "      <th>111222</th>\n",
       "      <td>Ned Stark</td>\n",
       "      <td>6.0</td>\n",
       "      <td>5.4</td>\n",
       "    </tr>\n",
       "    <tr>\n",
       "      <th>123123</th>\n",
       "      <td>Robert Baratheon</td>\n",
       "      <td>8.5</td>\n",
       "      <td>7.5</td>\n",
       "    </tr>\n",
       "    <tr>\n",
       "      <th>345345</th>\n",
       "      <td>Catelyn Stark</td>\n",
       "      <td>9.0</td>\n",
       "      <td>8.6</td>\n",
       "    </tr>\n",
       "    <tr>\n",
       "      <th>567567</th>\n",
       "      <td>Jon Snow</td>\n",
       "      <td>6.8</td>\n",
       "      <td>4.3</td>\n",
       "    </tr>\n",
       "    <tr>\n",
       "      <th>678678</th>\n",
       "      <td>Talisa Maegyr</td>\n",
       "      <td>7.6</td>\n",
       "      <td>0.0</td>\n",
       "    </tr>\n",
       "  </tbody>\n",
       "</table>\n",
       "</div>"
      ],
      "text/plain": [
       "                    Name  Exam  Practicals\n",
       "NIU                                       \n",
       "111222         Ned Stark   6.0         5.4\n",
       "123123  Robert Baratheon   8.5         7.5\n",
       "345345     Catelyn Stark   9.0         8.6\n",
       "567567          Jon Snow   6.8         4.3\n",
       "678678     Talisa Maegyr   7.6         0.0"
      ]
     },
     "execution_count": 12,
     "metadata": {},
     "output_type": "execute_result"
    }
   ],
   "source": [
    "dfStudents[ dfStudents[\"Exam\"] > 5.0 ]"
   ]
  },
  {
   "cell_type": "markdown",
   "id": "aquatic-anthony",
   "metadata": {},
   "source": [
    "Any boolean expression would do, for example get the members of the Stark family:"
   ]
  },
  {
   "cell_type": "code",
   "execution_count": 13,
   "id": "hawaiian-custom",
   "metadata": {},
   "outputs": [
    {
     "data": {
      "text/html": [
       "<div>\n",
       "<style scoped>\n",
       "    .dataframe tbody tr th:only-of-type {\n",
       "        vertical-align: middle;\n",
       "    }\n",
       "\n",
       "    .dataframe tbody tr th {\n",
       "        vertical-align: top;\n",
       "    }\n",
       "\n",
       "    .dataframe thead th {\n",
       "        text-align: right;\n",
       "    }\n",
       "</style>\n",
       "<table border=\"1\" class=\"dataframe\">\n",
       "  <thead>\n",
       "    <tr style=\"text-align: right;\">\n",
       "      <th></th>\n",
       "      <th>Name</th>\n",
       "      <th>Exam</th>\n",
       "      <th>Practicals</th>\n",
       "    </tr>\n",
       "    <tr>\n",
       "      <th>NIU</th>\n",
       "      <th></th>\n",
       "      <th></th>\n",
       "      <th></th>\n",
       "    </tr>\n",
       "  </thead>\n",
       "  <tbody>\n",
       "    <tr>\n",
       "      <th>111222</th>\n",
       "      <td>Ned Stark</td>\n",
       "      <td>6.0</td>\n",
       "      <td>5.4</td>\n",
       "    </tr>\n",
       "    <tr>\n",
       "      <th>345345</th>\n",
       "      <td>Catelyn Stark</td>\n",
       "      <td>9.0</td>\n",
       "      <td>8.6</td>\n",
       "    </tr>\n",
       "  </tbody>\n",
       "</table>\n",
       "</div>"
      ],
      "text/plain": [
       "                 Name  Exam  Practicals\n",
       "NIU                                    \n",
       "111222      Ned Stark   6.0         5.4\n",
       "345345  Catelyn Stark   9.0         8.6"
      ]
     },
     "execution_count": 13,
     "metadata": {},
     "output_type": "execute_result"
    }
   ],
   "source": [
    "dfStudents[ dfStudents[\"Name\"].str.contains(\"Stark\")]"
   ]
  },
  {
   "cell_type": "markdown",
   "id": "organic-myrtle",
   "metadata": {},
   "source": [
    "Or a list of students with specific exam scores:"
   ]
  },
  {
   "cell_type": "code",
   "execution_count": 14,
   "id": "amber-ending",
   "metadata": {},
   "outputs": [
    {
     "data": {
      "text/html": [
       "<div>\n",
       "<style scoped>\n",
       "    .dataframe tbody tr th:only-of-type {\n",
       "        vertical-align: middle;\n",
       "    }\n",
       "\n",
       "    .dataframe tbody tr th {\n",
       "        vertical-align: top;\n",
       "    }\n",
       "\n",
       "    .dataframe thead th {\n",
       "        text-align: right;\n",
       "    }\n",
       "</style>\n",
       "<table border=\"1\" class=\"dataframe\">\n",
       "  <thead>\n",
       "    <tr style=\"text-align: right;\">\n",
       "      <th></th>\n",
       "      <th>Name</th>\n",
       "      <th>Exam</th>\n",
       "      <th>Practicals</th>\n",
       "    </tr>\n",
       "    <tr>\n",
       "      <th>NIU</th>\n",
       "      <th></th>\n",
       "      <th></th>\n",
       "      <th></th>\n",
       "    </tr>\n",
       "  </thead>\n",
       "  <tbody>\n",
       "    <tr>\n",
       "      <th>123123</th>\n",
       "      <td>Robert Baratheon</td>\n",
       "      <td>8.5</td>\n",
       "      <td>7.5</td>\n",
       "    </tr>\n",
       "    <tr>\n",
       "      <th>567567</th>\n",
       "      <td>Jon Snow</td>\n",
       "      <td>6.8</td>\n",
       "      <td>4.3</td>\n",
       "    </tr>\n",
       "  </tbody>\n",
       "</table>\n",
       "</div>"
      ],
      "text/plain": [
       "                    Name  Exam  Practicals\n",
       "NIU                                       \n",
       "123123  Robert Baratheon   8.5         7.5\n",
       "567567          Jon Snow   6.8         4.3"
      ]
     },
     "execution_count": 14,
     "metadata": {},
     "output_type": "execute_result"
    }
   ],
   "source": [
    "dfStudents[ dfStudents[\"Exam\"].isin([6.8, 8.5]) ]"
   ]
  },
  {
   "cell_type": "markdown",
   "id": "discrete-retirement",
   "metadata": {},
   "source": [
    "Or the list of students that have passed both the exam and the practicals:"
   ]
  },
  {
   "cell_type": "code",
   "execution_count": 15,
   "id": "studied-broadway",
   "metadata": {},
   "outputs": [
    {
     "data": {
      "text/html": [
       "<div>\n",
       "<style scoped>\n",
       "    .dataframe tbody tr th:only-of-type {\n",
       "        vertical-align: middle;\n",
       "    }\n",
       "\n",
       "    .dataframe tbody tr th {\n",
       "        vertical-align: top;\n",
       "    }\n",
       "\n",
       "    .dataframe thead th {\n",
       "        text-align: right;\n",
       "    }\n",
       "</style>\n",
       "<table border=\"1\" class=\"dataframe\">\n",
       "  <thead>\n",
       "    <tr style=\"text-align: right;\">\n",
       "      <th></th>\n",
       "      <th>Name</th>\n",
       "      <th>Exam</th>\n",
       "      <th>Practicals</th>\n",
       "    </tr>\n",
       "    <tr>\n",
       "      <th>NIU</th>\n",
       "      <th></th>\n",
       "      <th></th>\n",
       "      <th></th>\n",
       "    </tr>\n",
       "  </thead>\n",
       "  <tbody>\n",
       "    <tr>\n",
       "      <th>111222</th>\n",
       "      <td>Ned Stark</td>\n",
       "      <td>6.0</td>\n",
       "      <td>5.4</td>\n",
       "    </tr>\n",
       "    <tr>\n",
       "      <th>123123</th>\n",
       "      <td>Robert Baratheon</td>\n",
       "      <td>8.5</td>\n",
       "      <td>7.5</td>\n",
       "    </tr>\n",
       "    <tr>\n",
       "      <th>345345</th>\n",
       "      <td>Catelyn Stark</td>\n",
       "      <td>9.0</td>\n",
       "      <td>8.6</td>\n",
       "    </tr>\n",
       "  </tbody>\n",
       "</table>\n",
       "</div>"
      ],
      "text/plain": [
       "                    Name  Exam  Practicals\n",
       "NIU                                       \n",
       "111222         Ned Stark   6.0         5.4\n",
       "123123  Robert Baratheon   8.5         7.5\n",
       "345345     Catelyn Stark   9.0         8.6"
      ]
     },
     "execution_count": 15,
     "metadata": {},
     "output_type": "execute_result"
    }
   ],
   "source": [
    "dfStudents[ (dfStudents[\"Exam\"]>5) & (dfStudents[\"Practicals\"]>5) ]"
   ]
  },
  {
   "cell_type": "markdown",
   "id": "powerful-column",
   "metadata": {},
   "source": [
    "Read the documentation for the function we just used here:\n",
    "\n",
    "https://pandas.pydata.org/pandas-docs/stable/reference/api/pandas.Series.str.contains.html\n",
    "\n",
    "https://pandas.pydata.org/pandas-docs/stable/reference/api/pandas.DataFrame.isin.html"
   ]
  },
  {
   "cell_type": "markdown",
   "id": "registered-motivation",
   "metadata": {},
   "source": [
    "To get a specific value in the table, you can either first get the column and then the row in the column. To do that you should use the indices - the names of the columns and the index for the row:"
   ]
  },
  {
   "cell_type": "code",
   "execution_count": 16,
   "id": "grand-blend",
   "metadata": {},
   "outputs": [
    {
     "data": {
      "text/plain": [
       "6.0"
      ]
     },
     "execution_count": 16,
     "metadata": {},
     "output_type": "execute_result"
    }
   ],
   "source": [
    "dfStudents[\"Exam\"][111222]"
   ]
  },
  {
   "cell_type": "markdown",
   "id": "raised-james",
   "metadata": {},
   "source": [
    "Alternatively, you can use integers to index a specific location, using the function `DataFrame.iloc`. Now the row is the first index and the column is the second one."
   ]
  },
  {
   "cell_type": "code",
   "execution_count": 17,
   "id": "demonstrated-russell",
   "metadata": {},
   "outputs": [
    {
     "data": {
      "text/plain": [
       "'Ned Stark'"
      ]
     },
     "execution_count": 17,
     "metadata": {},
     "output_type": "execute_result"
    }
   ],
   "source": [
    "dfStudents.iloc[0, 0]"
   ]
  },
  {
   "cell_type": "code",
   "execution_count": 18,
   "id": "induced-combat",
   "metadata": {},
   "outputs": [
    {
     "data": {
      "text/plain": [
       "'Robert Baratheon'"
      ]
     },
     "execution_count": 18,
     "metadata": {},
     "output_type": "execute_result"
    }
   ],
   "source": [
    "dfStudents.iloc[1, 0]"
   ]
  },
  {
   "cell_type": "markdown",
   "id": "correct-manufacturer",
   "metadata": {},
   "source": [
    "Adding a column is easy, you just have to tell pandas what you need in it (in the same way as you would add a new entry in a Python dictionary). Let's create a new column called \"Total Mark\" that is the average of the exam and the practicals grades:"
   ]
  },
  {
   "cell_type": "code",
   "execution_count": 19,
   "id": "demonstrated-croatia",
   "metadata": {},
   "outputs": [
    {
     "data": {
      "text/html": [
       "<div>\n",
       "<style scoped>\n",
       "    .dataframe tbody tr th:only-of-type {\n",
       "        vertical-align: middle;\n",
       "    }\n",
       "\n",
       "    .dataframe tbody tr th {\n",
       "        vertical-align: top;\n",
       "    }\n",
       "\n",
       "    .dataframe thead th {\n",
       "        text-align: right;\n",
       "    }\n",
       "</style>\n",
       "<table border=\"1\" class=\"dataframe\">\n",
       "  <thead>\n",
       "    <tr style=\"text-align: right;\">\n",
       "      <th></th>\n",
       "      <th>Name</th>\n",
       "      <th>Exam</th>\n",
       "      <th>Practicals</th>\n",
       "      <th>Total Mark</th>\n",
       "    </tr>\n",
       "    <tr>\n",
       "      <th>NIU</th>\n",
       "      <th></th>\n",
       "      <th></th>\n",
       "      <th></th>\n",
       "      <th></th>\n",
       "    </tr>\n",
       "  </thead>\n",
       "  <tbody>\n",
       "    <tr>\n",
       "      <th>111222</th>\n",
       "      <td>Ned Stark</td>\n",
       "      <td>6.0</td>\n",
       "      <td>5.4</td>\n",
       "      <td>5.70</td>\n",
       "    </tr>\n",
       "    <tr>\n",
       "      <th>123123</th>\n",
       "      <td>Robert Baratheon</td>\n",
       "      <td>8.5</td>\n",
       "      <td>7.5</td>\n",
       "      <td>8.00</td>\n",
       "    </tr>\n",
       "    <tr>\n",
       "      <th>234234</th>\n",
       "      <td>Jaime Lannister</td>\n",
       "      <td>3.7</td>\n",
       "      <td>6.4</td>\n",
       "      <td>5.05</td>\n",
       "    </tr>\n",
       "    <tr>\n",
       "      <th>345345</th>\n",
       "      <td>Catelyn Stark</td>\n",
       "      <td>9.0</td>\n",
       "      <td>8.6</td>\n",
       "      <td>8.80</td>\n",
       "    </tr>\n",
       "    <tr>\n",
       "      <th>456456</th>\n",
       "      <td>Viserys Targaryen</td>\n",
       "      <td>4.0</td>\n",
       "      <td>4.6</td>\n",
       "      <td>4.30</td>\n",
       "    </tr>\n",
       "    <tr>\n",
       "      <th>567567</th>\n",
       "      <td>Jon Snow</td>\n",
       "      <td>6.8</td>\n",
       "      <td>4.3</td>\n",
       "      <td>5.55</td>\n",
       "    </tr>\n",
       "    <tr>\n",
       "      <th>678678</th>\n",
       "      <td>Talisa Maegyr</td>\n",
       "      <td>7.6</td>\n",
       "      <td>0.0</td>\n",
       "      <td>3.80</td>\n",
       "    </tr>\n",
       "  </tbody>\n",
       "</table>\n",
       "</div>"
      ],
      "text/plain": [
       "                     Name  Exam  Practicals  Total Mark\n",
       "NIU                                                    \n",
       "111222          Ned Stark   6.0         5.4        5.70\n",
       "123123   Robert Baratheon   8.5         7.5        8.00\n",
       "234234    Jaime Lannister   3.7         6.4        5.05\n",
       "345345      Catelyn Stark   9.0         8.6        8.80\n",
       "456456  Viserys Targaryen   4.0         4.6        4.30\n",
       "567567           Jon Snow   6.8         4.3        5.55\n",
       "678678      Talisa Maegyr   7.6         0.0        3.80"
      ]
     },
     "execution_count": 19,
     "metadata": {},
     "output_type": "execute_result"
    }
   ],
   "source": [
    "dfStudents[\"Total Mark\"] = (dfStudents[\"Exam\"] + dfStudents[\"Practicals\"]) / 2\n",
    "dfStudents"
   ]
  },
  {
   "cell_type": "markdown",
   "id": "liable-connecticut",
   "metadata": {},
   "source": [
    "To change a value, you can use `DataFrame.at[]` or `DataFrame.iat[]` passing the row and then the column of the item you want to set:"
   ]
  },
  {
   "cell_type": "code",
   "execution_count": 20,
   "id": "marine-perspective",
   "metadata": {},
   "outputs": [
    {
     "data": {
      "text/html": [
       "<div>\n",
       "<style scoped>\n",
       "    .dataframe tbody tr th:only-of-type {\n",
       "        vertical-align: middle;\n",
       "    }\n",
       "\n",
       "    .dataframe tbody tr th {\n",
       "        vertical-align: top;\n",
       "    }\n",
       "\n",
       "    .dataframe thead th {\n",
       "        text-align: right;\n",
       "    }\n",
       "</style>\n",
       "<table border=\"1\" class=\"dataframe\">\n",
       "  <thead>\n",
       "    <tr style=\"text-align: right;\">\n",
       "      <th></th>\n",
       "      <th>Name</th>\n",
       "      <th>Exam</th>\n",
       "      <th>Practicals</th>\n",
       "      <th>Total Mark</th>\n",
       "    </tr>\n",
       "    <tr>\n",
       "      <th>NIU</th>\n",
       "      <th></th>\n",
       "      <th></th>\n",
       "      <th></th>\n",
       "      <th></th>\n",
       "    </tr>\n",
       "  </thead>\n",
       "  <tbody>\n",
       "    <tr>\n",
       "      <th>111222</th>\n",
       "      <td>Davos Seaworth</td>\n",
       "      <td>6.0</td>\n",
       "      <td>5.4</td>\n",
       "      <td>5.70</td>\n",
       "    </tr>\n",
       "    <tr>\n",
       "      <th>123123</th>\n",
       "      <td>Brienne of Tarth</td>\n",
       "      <td>8.5</td>\n",
       "      <td>7.5</td>\n",
       "      <td>8.00</td>\n",
       "    </tr>\n",
       "    <tr>\n",
       "      <th>234234</th>\n",
       "      <td>Jaime Lannister</td>\n",
       "      <td>3.7</td>\n",
       "      <td>6.4</td>\n",
       "      <td>5.05</td>\n",
       "    </tr>\n",
       "    <tr>\n",
       "      <th>345345</th>\n",
       "      <td>Catelyn Stark</td>\n",
       "      <td>9.0</td>\n",
       "      <td>8.6</td>\n",
       "      <td>8.80</td>\n",
       "    </tr>\n",
       "    <tr>\n",
       "      <th>456456</th>\n",
       "      <td>Viserys Targaryen</td>\n",
       "      <td>4.0</td>\n",
       "      <td>4.6</td>\n",
       "      <td>4.30</td>\n",
       "    </tr>\n",
       "    <tr>\n",
       "      <th>567567</th>\n",
       "      <td>Jon Snow</td>\n",
       "      <td>6.8</td>\n",
       "      <td>4.3</td>\n",
       "      <td>5.55</td>\n",
       "    </tr>\n",
       "    <tr>\n",
       "      <th>678678</th>\n",
       "      <td>Talisa Maegyr</td>\n",
       "      <td>7.6</td>\n",
       "      <td>0.0</td>\n",
       "      <td>3.80</td>\n",
       "    </tr>\n",
       "  </tbody>\n",
       "</table>\n",
       "</div>"
      ],
      "text/plain": [
       "                     Name  Exam  Practicals  Total Mark\n",
       "NIU                                                    \n",
       "111222     Davos Seaworth   6.0         5.4        5.70\n",
       "123123   Brienne of Tarth   8.5         7.5        8.00\n",
       "234234    Jaime Lannister   3.7         6.4        5.05\n",
       "345345      Catelyn Stark   9.0         8.6        8.80\n",
       "456456  Viserys Targaryen   4.0         4.6        4.30\n",
       "567567           Jon Snow   6.8         4.3        5.55\n",
       "678678      Talisa Maegyr   7.6         0.0        3.80"
      ]
     },
     "execution_count": 20,
     "metadata": {},
     "output_type": "execute_result"
    }
   ],
   "source": [
    "dfStudents.at[111222, \"Name\"] = \"Davos Seaworth\" # The indices here are the row and column keys\n",
    "\n",
    "dfStudents.iat[1, 0] = \"Brienne of Tarth\" # the indices here are the row and column numbers\n",
    "\n",
    "dfStudents"
   ]
  },
  {
   "cell_type": "markdown",
   "id": "cellular-visiting",
   "metadata": {},
   "source": [
    "You can use the same way to add an new element, if you reference an element that does not exist it will be added in the list"
   ]
  },
  {
   "cell_type": "code",
   "execution_count": 21,
   "id": "stylish-sudan",
   "metadata": {},
   "outputs": [
    {
     "data": {
      "text/html": [
       "<div>\n",
       "<style scoped>\n",
       "    .dataframe tbody tr th:only-of-type {\n",
       "        vertical-align: middle;\n",
       "    }\n",
       "\n",
       "    .dataframe tbody tr th {\n",
       "        vertical-align: top;\n",
       "    }\n",
       "\n",
       "    .dataframe thead th {\n",
       "        text-align: right;\n",
       "    }\n",
       "</style>\n",
       "<table border=\"1\" class=\"dataframe\">\n",
       "  <thead>\n",
       "    <tr style=\"text-align: right;\">\n",
       "      <th></th>\n",
       "      <th>Name</th>\n",
       "      <th>Exam</th>\n",
       "      <th>Practicals</th>\n",
       "      <th>Total Mark</th>\n",
       "    </tr>\n",
       "    <tr>\n",
       "      <th>NIU</th>\n",
       "      <th></th>\n",
       "      <th></th>\n",
       "      <th></th>\n",
       "      <th></th>\n",
       "    </tr>\n",
       "  </thead>\n",
       "  <tbody>\n",
       "    <tr>\n",
       "      <th>111222</th>\n",
       "      <td>Davos Seaworth</td>\n",
       "      <td>6.0</td>\n",
       "      <td>5.4</td>\n",
       "      <td>5.70</td>\n",
       "    </tr>\n",
       "    <tr>\n",
       "      <th>123123</th>\n",
       "      <td>Brienne of Tarth</td>\n",
       "      <td>8.5</td>\n",
       "      <td>7.5</td>\n",
       "      <td>8.00</td>\n",
       "    </tr>\n",
       "    <tr>\n",
       "      <th>234234</th>\n",
       "      <td>Jaime Lannister</td>\n",
       "      <td>3.7</td>\n",
       "      <td>6.4</td>\n",
       "      <td>5.05</td>\n",
       "    </tr>\n",
       "    <tr>\n",
       "      <th>345345</th>\n",
       "      <td>Catelyn Stark</td>\n",
       "      <td>9.0</td>\n",
       "      <td>8.6</td>\n",
       "      <td>8.80</td>\n",
       "    </tr>\n",
       "    <tr>\n",
       "      <th>456456</th>\n",
       "      <td>Viserys Targaryen</td>\n",
       "      <td>4.0</td>\n",
       "      <td>4.6</td>\n",
       "      <td>4.30</td>\n",
       "    </tr>\n",
       "    <tr>\n",
       "      <th>567567</th>\n",
       "      <td>Jon Snow</td>\n",
       "      <td>6.8</td>\n",
       "      <td>4.3</td>\n",
       "      <td>5.55</td>\n",
       "    </tr>\n",
       "    <tr>\n",
       "      <th>678678</th>\n",
       "      <td>Talisa Maegyr</td>\n",
       "      <td>7.6</td>\n",
       "      <td>0.0</td>\n",
       "      <td>3.80</td>\n",
       "    </tr>\n",
       "    <tr>\n",
       "      <th>Starfleet_1234</th>\n",
       "      <td>Jean Luc Piccard</td>\n",
       "      <td>NaN</td>\n",
       "      <td>NaN</td>\n",
       "      <td>NaN</td>\n",
       "    </tr>\n",
       "  </tbody>\n",
       "</table>\n",
       "</div>"
      ],
      "text/plain": [
       "                             Name  Exam  Practicals  Total Mark\n",
       "NIU                                                            \n",
       "111222             Davos Seaworth   6.0         5.4        5.70\n",
       "123123           Brienne of Tarth   8.5         7.5        8.00\n",
       "234234            Jaime Lannister   3.7         6.4        5.05\n",
       "345345              Catelyn Stark   9.0         8.6        8.80\n",
       "456456          Viserys Targaryen   4.0         4.6        4.30\n",
       "567567                   Jon Snow   6.8         4.3        5.55\n",
       "678678              Talisa Maegyr   7.6         0.0        3.80\n",
       "Starfleet_1234   Jean Luc Piccard   NaN         NaN         NaN"
      ]
     },
     "execution_count": 21,
     "metadata": {},
     "output_type": "execute_result"
    }
   ],
   "source": [
    "dfStudents.at[\"Starfleet_1234\", \"Name\"] = \"Jean Luc Piccard\"\n",
    "dfStudents"
   ]
  },
  {
   "cell_type": "markdown",
   "id": "given-mention",
   "metadata": {},
   "source": [
    "See that since we used a row index that does not exist, it was created for us. And since we only provided a value for the name, the rest are marked as \"Not A Number\" `NaN`. We can select all the rows that are NOT *NaN* using the function `notna()`.\n",
    "> *To select all the values that ARE NaN you can use the function `isna()` or `isnull()`.*"
   ]
  },
  {
   "cell_type": "code",
   "execution_count": 22,
   "id": "earlier-glenn",
   "metadata": {},
   "outputs": [
    {
     "data": {
      "text/html": [
       "<div>\n",
       "<style scoped>\n",
       "    .dataframe tbody tr th:only-of-type {\n",
       "        vertical-align: middle;\n",
       "    }\n",
       "\n",
       "    .dataframe tbody tr th {\n",
       "        vertical-align: top;\n",
       "    }\n",
       "\n",
       "    .dataframe thead th {\n",
       "        text-align: right;\n",
       "    }\n",
       "</style>\n",
       "<table border=\"1\" class=\"dataframe\">\n",
       "  <thead>\n",
       "    <tr style=\"text-align: right;\">\n",
       "      <th></th>\n",
       "      <th>Name</th>\n",
       "      <th>Exam</th>\n",
       "      <th>Practicals</th>\n",
       "      <th>Total Mark</th>\n",
       "    </tr>\n",
       "    <tr>\n",
       "      <th>NIU</th>\n",
       "      <th></th>\n",
       "      <th></th>\n",
       "      <th></th>\n",
       "      <th></th>\n",
       "    </tr>\n",
       "  </thead>\n",
       "  <tbody>\n",
       "    <tr>\n",
       "      <th>111222</th>\n",
       "      <td>Davos Seaworth</td>\n",
       "      <td>6.0</td>\n",
       "      <td>5.4</td>\n",
       "      <td>5.70</td>\n",
       "    </tr>\n",
       "    <tr>\n",
       "      <th>123123</th>\n",
       "      <td>Brienne of Tarth</td>\n",
       "      <td>8.5</td>\n",
       "      <td>7.5</td>\n",
       "      <td>8.00</td>\n",
       "    </tr>\n",
       "    <tr>\n",
       "      <th>234234</th>\n",
       "      <td>Jaime Lannister</td>\n",
       "      <td>3.7</td>\n",
       "      <td>6.4</td>\n",
       "      <td>5.05</td>\n",
       "    </tr>\n",
       "    <tr>\n",
       "      <th>345345</th>\n",
       "      <td>Catelyn Stark</td>\n",
       "      <td>9.0</td>\n",
       "      <td>8.6</td>\n",
       "      <td>8.80</td>\n",
       "    </tr>\n",
       "    <tr>\n",
       "      <th>456456</th>\n",
       "      <td>Viserys Targaryen</td>\n",
       "      <td>4.0</td>\n",
       "      <td>4.6</td>\n",
       "      <td>4.30</td>\n",
       "    </tr>\n",
       "    <tr>\n",
       "      <th>567567</th>\n",
       "      <td>Jon Snow</td>\n",
       "      <td>6.8</td>\n",
       "      <td>4.3</td>\n",
       "      <td>5.55</td>\n",
       "    </tr>\n",
       "    <tr>\n",
       "      <th>678678</th>\n",
       "      <td>Talisa Maegyr</td>\n",
       "      <td>7.6</td>\n",
       "      <td>0.0</td>\n",
       "      <td>3.80</td>\n",
       "    </tr>\n",
       "  </tbody>\n",
       "</table>\n",
       "</div>"
      ],
      "text/plain": [
       "                     Name  Exam  Practicals  Total Mark\n",
       "NIU                                                    \n",
       "111222     Davos Seaworth   6.0         5.4        5.70\n",
       "123123   Brienne of Tarth   8.5         7.5        8.00\n",
       "234234    Jaime Lannister   3.7         6.4        5.05\n",
       "345345      Catelyn Stark   9.0         8.6        8.80\n",
       "456456  Viserys Targaryen   4.0         4.6        4.30\n",
       "567567           Jon Snow   6.8         4.3        5.55\n",
       "678678      Talisa Maegyr   7.6         0.0        3.80"
      ]
     },
     "execution_count": 22,
     "metadata": {},
     "output_type": "execute_result"
    }
   ],
   "source": [
    "viewWithoutNaNs = dfStudents[dfStudents[\"Exam\"].notna()] # This is just a different view of the same data - the data itself has not been changed\n",
    "viewWithoutNaNs"
   ]
  },
  {
   "cell_type": "markdown",
   "id": "refined-disorder",
   "metadata": {},
   "source": [
    "Let's fix that new row by providing values for all the columns:"
   ]
  },
  {
   "cell_type": "code",
   "execution_count": 23,
   "id": "tough-multiple",
   "metadata": {},
   "outputs": [
    {
     "data": {
      "text/html": [
       "<div>\n",
       "<style scoped>\n",
       "    .dataframe tbody tr th:only-of-type {\n",
       "        vertical-align: middle;\n",
       "    }\n",
       "\n",
       "    .dataframe tbody tr th {\n",
       "        vertical-align: top;\n",
       "    }\n",
       "\n",
       "    .dataframe thead th {\n",
       "        text-align: right;\n",
       "    }\n",
       "</style>\n",
       "<table border=\"1\" class=\"dataframe\">\n",
       "  <thead>\n",
       "    <tr style=\"text-align: right;\">\n",
       "      <th></th>\n",
       "      <th>Name</th>\n",
       "      <th>Exam</th>\n",
       "      <th>Practicals</th>\n",
       "      <th>Total Mark</th>\n",
       "    </tr>\n",
       "    <tr>\n",
       "      <th>NIU</th>\n",
       "      <th></th>\n",
       "      <th></th>\n",
       "      <th></th>\n",
       "      <th></th>\n",
       "    </tr>\n",
       "  </thead>\n",
       "  <tbody>\n",
       "    <tr>\n",
       "      <th>111222</th>\n",
       "      <td>Davos Seaworth</td>\n",
       "      <td>6.0</td>\n",
       "      <td>5.4</td>\n",
       "      <td>5.70</td>\n",
       "    </tr>\n",
       "    <tr>\n",
       "      <th>123123</th>\n",
       "      <td>Brienne of Tarth</td>\n",
       "      <td>8.5</td>\n",
       "      <td>7.5</td>\n",
       "      <td>8.00</td>\n",
       "    </tr>\n",
       "    <tr>\n",
       "      <th>234234</th>\n",
       "      <td>Jaime Lannister</td>\n",
       "      <td>3.7</td>\n",
       "      <td>6.4</td>\n",
       "      <td>5.05</td>\n",
       "    </tr>\n",
       "    <tr>\n",
       "      <th>345345</th>\n",
       "      <td>Catelyn Stark</td>\n",
       "      <td>9.0</td>\n",
       "      <td>8.6</td>\n",
       "      <td>8.80</td>\n",
       "    </tr>\n",
       "    <tr>\n",
       "      <th>456456</th>\n",
       "      <td>Viserys Targaryen</td>\n",
       "      <td>4.0</td>\n",
       "      <td>4.6</td>\n",
       "      <td>4.30</td>\n",
       "    </tr>\n",
       "    <tr>\n",
       "      <th>567567</th>\n",
       "      <td>Jon Snow</td>\n",
       "      <td>6.8</td>\n",
       "      <td>4.3</td>\n",
       "      <td>5.55</td>\n",
       "    </tr>\n",
       "    <tr>\n",
       "      <th>678678</th>\n",
       "      <td>Talisa Maegyr</td>\n",
       "      <td>7.6</td>\n",
       "      <td>0.0</td>\n",
       "      <td>3.80</td>\n",
       "    </tr>\n",
       "    <tr>\n",
       "      <th>Starfleet_1234</th>\n",
       "      <td>Jean Luc Picard</td>\n",
       "      <td>10.0</td>\n",
       "      <td>10.0</td>\n",
       "      <td>10.00</td>\n",
       "    </tr>\n",
       "  </tbody>\n",
       "</table>\n",
       "</div>"
      ],
      "text/plain": [
       "                             Name  Exam  Practicals  Total Mark\n",
       "NIU                                                            \n",
       "111222             Davos Seaworth   6.0         5.4        5.70\n",
       "123123           Brienne of Tarth   8.5         7.5        8.00\n",
       "234234            Jaime Lannister   3.7         6.4        5.05\n",
       "345345              Catelyn Stark   9.0         8.6        8.80\n",
       "456456          Viserys Targaryen   4.0         4.6        4.30\n",
       "567567                   Jon Snow   6.8         4.3        5.55\n",
       "678678              Talisa Maegyr   7.6         0.0        3.80\n",
       "Starfleet_1234    Jean Luc Picard  10.0        10.0       10.00"
      ]
     },
     "execution_count": 23,
     "metadata": {},
     "output_type": "execute_result"
    }
   ],
   "source": [
    "dfStudents.at[\"Starfleet_1234\", :] = [\"Jean Luc Picard\", 10.0, 10.0, 10.0]\n",
    "\n",
    "# Or equivalently\n",
    "# dfStudents.at[\"Starfleet_1234\"] = [\"Jean Luc Picard\", 10.0, 10.0, 10.0]\n",
    "\n",
    "dfStudents"
   ]
  },
  {
   "cell_type": "markdown",
   "id": "romantic-rebel",
   "metadata": {},
   "source": [
    "Another way to add rows is to use `DataFrame.append()`\n",
    "\n",
    "https://pandas.pydata.org/pandas-docs/stable/reference/api/pandas.DataFrame.append.html"
   ]
  },
  {
   "cell_type": "code",
   "execution_count": 24,
   "id": "accessory-graphics",
   "metadata": {},
   "outputs": [
    {
     "data": {
      "text/html": [
       "<div>\n",
       "<style scoped>\n",
       "    .dataframe tbody tr th:only-of-type {\n",
       "        vertical-align: middle;\n",
       "    }\n",
       "\n",
       "    .dataframe tbody tr th {\n",
       "        vertical-align: top;\n",
       "    }\n",
       "\n",
       "    .dataframe thead th {\n",
       "        text-align: right;\n",
       "    }\n",
       "</style>\n",
       "<table border=\"1\" class=\"dataframe\">\n",
       "  <thead>\n",
       "    <tr style=\"text-align: right;\">\n",
       "      <th></th>\n",
       "      <th>Name</th>\n",
       "      <th>Exam</th>\n",
       "      <th>Practicals</th>\n",
       "      <th>Total Mark</th>\n",
       "    </tr>\n",
       "    <tr>\n",
       "      <th>NIU</th>\n",
       "      <th></th>\n",
       "      <th></th>\n",
       "      <th></th>\n",
       "      <th></th>\n",
       "    </tr>\n",
       "  </thead>\n",
       "  <tbody>\n",
       "    <tr>\n",
       "      <th>111222</th>\n",
       "      <td>Davos Seaworth</td>\n",
       "      <td>6.0</td>\n",
       "      <td>5.4</td>\n",
       "      <td>5.70</td>\n",
       "    </tr>\n",
       "    <tr>\n",
       "      <th>123123</th>\n",
       "      <td>Brienne of Tarth</td>\n",
       "      <td>8.5</td>\n",
       "      <td>7.5</td>\n",
       "      <td>8.00</td>\n",
       "    </tr>\n",
       "    <tr>\n",
       "      <th>234234</th>\n",
       "      <td>Jaime Lannister</td>\n",
       "      <td>3.7</td>\n",
       "      <td>6.4</td>\n",
       "      <td>5.05</td>\n",
       "    </tr>\n",
       "    <tr>\n",
       "      <th>345345</th>\n",
       "      <td>Catelyn Stark</td>\n",
       "      <td>9.0</td>\n",
       "      <td>8.6</td>\n",
       "      <td>8.80</td>\n",
       "    </tr>\n",
       "    <tr>\n",
       "      <th>456456</th>\n",
       "      <td>Viserys Targaryen</td>\n",
       "      <td>4.0</td>\n",
       "      <td>4.6</td>\n",
       "      <td>4.30</td>\n",
       "    </tr>\n",
       "    <tr>\n",
       "      <th>567567</th>\n",
       "      <td>Jon Snow</td>\n",
       "      <td>6.8</td>\n",
       "      <td>4.3</td>\n",
       "      <td>5.55</td>\n",
       "    </tr>\n",
       "    <tr>\n",
       "      <th>678678</th>\n",
       "      <td>Talisa Maegyr</td>\n",
       "      <td>7.6</td>\n",
       "      <td>0.0</td>\n",
       "      <td>3.80</td>\n",
       "    </tr>\n",
       "    <tr>\n",
       "      <th>Starfleet_1234</th>\n",
       "      <td>Jean Luc Picard</td>\n",
       "      <td>10.0</td>\n",
       "      <td>10.0</td>\n",
       "      <td>10.00</td>\n",
       "    </tr>\n",
       "    <tr>\n",
       "      <th>Starfleet_5678</th>\n",
       "      <td>Seven of Nine</td>\n",
       "      <td>10.0</td>\n",
       "      <td>10.0</td>\n",
       "      <td>10.00</td>\n",
       "    </tr>\n",
       "  </tbody>\n",
       "</table>\n",
       "</div>"
      ],
      "text/plain": [
       "                             Name  Exam  Practicals  Total Mark\n",
       "NIU                                                            \n",
       "111222             Davos Seaworth   6.0         5.4        5.70\n",
       "123123           Brienne of Tarth   8.5         7.5        8.00\n",
       "234234            Jaime Lannister   3.7         6.4        5.05\n",
       "345345              Catelyn Stark   9.0         8.6        8.80\n",
       "456456          Viserys Targaryen   4.0         4.6        4.30\n",
       "567567                   Jon Snow   6.8         4.3        5.55\n",
       "678678              Talisa Maegyr   7.6         0.0        3.80\n",
       "Starfleet_1234    Jean Luc Picard  10.0        10.0       10.00\n",
       "Starfleet_5678      Seven of Nine  10.0        10.0       10.00"
      ]
     },
     "execution_count": 24,
     "metadata": {},
     "output_type": "execute_result"
    }
   ],
   "source": [
    "dfStudents.append(pd.Series([\"Seven of Nine\", 10.0, 10.0, 10.0], index = [\"Name\", \"Exam\", \"Practicals\", \"Total Mark\"], name = \"Starfleet_5678\"))"
   ]
  },
  {
   "cell_type": "markdown",
   "id": "political-spine",
   "metadata": {},
   "source": [
    "Check though that `append()` returns a new object, it does not change the original. Check it out:"
   ]
  },
  {
   "cell_type": "code",
   "execution_count": 25,
   "id": "strategic-capture",
   "metadata": {},
   "outputs": [
    {
     "data": {
      "text/html": [
       "<div>\n",
       "<style scoped>\n",
       "    .dataframe tbody tr th:only-of-type {\n",
       "        vertical-align: middle;\n",
       "    }\n",
       "\n",
       "    .dataframe tbody tr th {\n",
       "        vertical-align: top;\n",
       "    }\n",
       "\n",
       "    .dataframe thead th {\n",
       "        text-align: right;\n",
       "    }\n",
       "</style>\n",
       "<table border=\"1\" class=\"dataframe\">\n",
       "  <thead>\n",
       "    <tr style=\"text-align: right;\">\n",
       "      <th></th>\n",
       "      <th>Name</th>\n",
       "      <th>Exam</th>\n",
       "      <th>Practicals</th>\n",
       "      <th>Total Mark</th>\n",
       "    </tr>\n",
       "    <tr>\n",
       "      <th>NIU</th>\n",
       "      <th></th>\n",
       "      <th></th>\n",
       "      <th></th>\n",
       "      <th></th>\n",
       "    </tr>\n",
       "  </thead>\n",
       "  <tbody>\n",
       "    <tr>\n",
       "      <th>111222</th>\n",
       "      <td>Davos Seaworth</td>\n",
       "      <td>6.0</td>\n",
       "      <td>5.4</td>\n",
       "      <td>5.70</td>\n",
       "    </tr>\n",
       "    <tr>\n",
       "      <th>123123</th>\n",
       "      <td>Brienne of Tarth</td>\n",
       "      <td>8.5</td>\n",
       "      <td>7.5</td>\n",
       "      <td>8.00</td>\n",
       "    </tr>\n",
       "    <tr>\n",
       "      <th>234234</th>\n",
       "      <td>Jaime Lannister</td>\n",
       "      <td>3.7</td>\n",
       "      <td>6.4</td>\n",
       "      <td>5.05</td>\n",
       "    </tr>\n",
       "    <tr>\n",
       "      <th>345345</th>\n",
       "      <td>Catelyn Stark</td>\n",
       "      <td>9.0</td>\n",
       "      <td>8.6</td>\n",
       "      <td>8.80</td>\n",
       "    </tr>\n",
       "    <tr>\n",
       "      <th>456456</th>\n",
       "      <td>Viserys Targaryen</td>\n",
       "      <td>4.0</td>\n",
       "      <td>4.6</td>\n",
       "      <td>4.30</td>\n",
       "    </tr>\n",
       "    <tr>\n",
       "      <th>567567</th>\n",
       "      <td>Jon Snow</td>\n",
       "      <td>6.8</td>\n",
       "      <td>4.3</td>\n",
       "      <td>5.55</td>\n",
       "    </tr>\n",
       "    <tr>\n",
       "      <th>678678</th>\n",
       "      <td>Talisa Maegyr</td>\n",
       "      <td>7.6</td>\n",
       "      <td>0.0</td>\n",
       "      <td>3.80</td>\n",
       "    </tr>\n",
       "    <tr>\n",
       "      <th>Starfleet_1234</th>\n",
       "      <td>Jean Luc Picard</td>\n",
       "      <td>10.0</td>\n",
       "      <td>10.0</td>\n",
       "      <td>10.00</td>\n",
       "    </tr>\n",
       "  </tbody>\n",
       "</table>\n",
       "</div>"
      ],
      "text/plain": [
       "                             Name  Exam  Practicals  Total Mark\n",
       "NIU                                                            \n",
       "111222             Davos Seaworth   6.0         5.4        5.70\n",
       "123123           Brienne of Tarth   8.5         7.5        8.00\n",
       "234234            Jaime Lannister   3.7         6.4        5.05\n",
       "345345              Catelyn Stark   9.0         8.6        8.80\n",
       "456456          Viserys Targaryen   4.0         4.6        4.30\n",
       "567567                   Jon Snow   6.8         4.3        5.55\n",
       "678678              Talisa Maegyr   7.6         0.0        3.80\n",
       "Starfleet_1234    Jean Luc Picard  10.0        10.0       10.00"
      ]
     },
     "execution_count": 25,
     "metadata": {},
     "output_type": "execute_result"
    }
   ],
   "source": [
    "dfStudents"
   ]
  },
  {
   "cell_type": "markdown",
   "id": "killing-biology",
   "metadata": {},
   "source": [
    "If we wanted to save this change, we should do this:"
   ]
  },
  {
   "cell_type": "code",
   "execution_count": 26,
   "id": "blind-presence",
   "metadata": {},
   "outputs": [
    {
     "data": {
      "text/html": [
       "<div>\n",
       "<style scoped>\n",
       "    .dataframe tbody tr th:only-of-type {\n",
       "        vertical-align: middle;\n",
       "    }\n",
       "\n",
       "    .dataframe tbody tr th {\n",
       "        vertical-align: top;\n",
       "    }\n",
       "\n",
       "    .dataframe thead th {\n",
       "        text-align: right;\n",
       "    }\n",
       "</style>\n",
       "<table border=\"1\" class=\"dataframe\">\n",
       "  <thead>\n",
       "    <tr style=\"text-align: right;\">\n",
       "      <th></th>\n",
       "      <th>Name</th>\n",
       "      <th>Exam</th>\n",
       "      <th>Practicals</th>\n",
       "      <th>Total Mark</th>\n",
       "    </tr>\n",
       "    <tr>\n",
       "      <th>NIU</th>\n",
       "      <th></th>\n",
       "      <th></th>\n",
       "      <th></th>\n",
       "      <th></th>\n",
       "    </tr>\n",
       "  </thead>\n",
       "  <tbody>\n",
       "    <tr>\n",
       "      <th>111222</th>\n",
       "      <td>Davos Seaworth</td>\n",
       "      <td>6.0</td>\n",
       "      <td>5.4</td>\n",
       "      <td>5.70</td>\n",
       "    </tr>\n",
       "    <tr>\n",
       "      <th>123123</th>\n",
       "      <td>Brienne of Tarth</td>\n",
       "      <td>8.5</td>\n",
       "      <td>7.5</td>\n",
       "      <td>8.00</td>\n",
       "    </tr>\n",
       "    <tr>\n",
       "      <th>234234</th>\n",
       "      <td>Jaime Lannister</td>\n",
       "      <td>3.7</td>\n",
       "      <td>6.4</td>\n",
       "      <td>5.05</td>\n",
       "    </tr>\n",
       "    <tr>\n",
       "      <th>345345</th>\n",
       "      <td>Catelyn Stark</td>\n",
       "      <td>9.0</td>\n",
       "      <td>8.6</td>\n",
       "      <td>8.80</td>\n",
       "    </tr>\n",
       "    <tr>\n",
       "      <th>456456</th>\n",
       "      <td>Viserys Targaryen</td>\n",
       "      <td>4.0</td>\n",
       "      <td>4.6</td>\n",
       "      <td>4.30</td>\n",
       "    </tr>\n",
       "    <tr>\n",
       "      <th>567567</th>\n",
       "      <td>Jon Snow</td>\n",
       "      <td>6.8</td>\n",
       "      <td>4.3</td>\n",
       "      <td>5.55</td>\n",
       "    </tr>\n",
       "    <tr>\n",
       "      <th>678678</th>\n",
       "      <td>Talisa Maegyr</td>\n",
       "      <td>7.6</td>\n",
       "      <td>0.0</td>\n",
       "      <td>3.80</td>\n",
       "    </tr>\n",
       "    <tr>\n",
       "      <th>Starfleet_1234</th>\n",
       "      <td>Jean Luc Picard</td>\n",
       "      <td>10.0</td>\n",
       "      <td>10.0</td>\n",
       "      <td>10.00</td>\n",
       "    </tr>\n",
       "    <tr>\n",
       "      <th>Starfleet_5678</th>\n",
       "      <td>Seven of Nine</td>\n",
       "      <td>10.0</td>\n",
       "      <td>10.0</td>\n",
       "      <td>10.00</td>\n",
       "    </tr>\n",
       "  </tbody>\n",
       "</table>\n",
       "</div>"
      ],
      "text/plain": [
       "                             Name  Exam  Practicals  Total Mark\n",
       "NIU                                                            \n",
       "111222             Davos Seaworth   6.0         5.4        5.70\n",
       "123123           Brienne of Tarth   8.5         7.5        8.00\n",
       "234234            Jaime Lannister   3.7         6.4        5.05\n",
       "345345              Catelyn Stark   9.0         8.6        8.80\n",
       "456456          Viserys Targaryen   4.0         4.6        4.30\n",
       "567567                   Jon Snow   6.8         4.3        5.55\n",
       "678678              Talisa Maegyr   7.6         0.0        3.80\n",
       "Starfleet_1234    Jean Luc Picard  10.0        10.0       10.00\n",
       "Starfleet_5678      Seven of Nine  10.0        10.0       10.00"
      ]
     },
     "execution_count": 26,
     "metadata": {},
     "output_type": "execute_result"
    }
   ],
   "source": [
    "dfStudents = dfStudents.append(pd.Series([\"Seven of Nine\", 10.0, 10.0, 10.0], index = [\"Name\", \"Exam\", \"Practicals\", \"Total Mark\"], name = \"Starfleet_5678\"))\n",
    "dfStudents"
   ]
  },
  {
   "cell_type": "markdown",
   "id": "severe-edinburgh",
   "metadata": {},
   "source": [
    "Ok, Jean Luc and Seven of Nine are a bit out of place here, let's drop these two rows, literally:"
   ]
  },
  {
   "cell_type": "code",
   "execution_count": 27,
   "id": "portuguese-recommendation",
   "metadata": {},
   "outputs": [
    {
     "data": {
      "text/html": [
       "<div>\n",
       "<style scoped>\n",
       "    .dataframe tbody tr th:only-of-type {\n",
       "        vertical-align: middle;\n",
       "    }\n",
       "\n",
       "    .dataframe tbody tr th {\n",
       "        vertical-align: top;\n",
       "    }\n",
       "\n",
       "    .dataframe thead th {\n",
       "        text-align: right;\n",
       "    }\n",
       "</style>\n",
       "<table border=\"1\" class=\"dataframe\">\n",
       "  <thead>\n",
       "    <tr style=\"text-align: right;\">\n",
       "      <th></th>\n",
       "      <th>Name</th>\n",
       "      <th>Exam</th>\n",
       "      <th>Practicals</th>\n",
       "      <th>Total Mark</th>\n",
       "    </tr>\n",
       "    <tr>\n",
       "      <th>NIU</th>\n",
       "      <th></th>\n",
       "      <th></th>\n",
       "      <th></th>\n",
       "      <th></th>\n",
       "    </tr>\n",
       "  </thead>\n",
       "  <tbody>\n",
       "    <tr>\n",
       "      <th>111222</th>\n",
       "      <td>Davos Seaworth</td>\n",
       "      <td>6.0</td>\n",
       "      <td>5.4</td>\n",
       "      <td>5.70</td>\n",
       "    </tr>\n",
       "    <tr>\n",
       "      <th>123123</th>\n",
       "      <td>Brienne of Tarth</td>\n",
       "      <td>8.5</td>\n",
       "      <td>7.5</td>\n",
       "      <td>8.00</td>\n",
       "    </tr>\n",
       "    <tr>\n",
       "      <th>234234</th>\n",
       "      <td>Jaime Lannister</td>\n",
       "      <td>3.7</td>\n",
       "      <td>6.4</td>\n",
       "      <td>5.05</td>\n",
       "    </tr>\n",
       "    <tr>\n",
       "      <th>345345</th>\n",
       "      <td>Catelyn Stark</td>\n",
       "      <td>9.0</td>\n",
       "      <td>8.6</td>\n",
       "      <td>8.80</td>\n",
       "    </tr>\n",
       "    <tr>\n",
       "      <th>456456</th>\n",
       "      <td>Viserys Targaryen</td>\n",
       "      <td>4.0</td>\n",
       "      <td>4.6</td>\n",
       "      <td>4.30</td>\n",
       "    </tr>\n",
       "    <tr>\n",
       "      <th>567567</th>\n",
       "      <td>Jon Snow</td>\n",
       "      <td>6.8</td>\n",
       "      <td>4.3</td>\n",
       "      <td>5.55</td>\n",
       "    </tr>\n",
       "    <tr>\n",
       "      <th>678678</th>\n",
       "      <td>Talisa Maegyr</td>\n",
       "      <td>7.6</td>\n",
       "      <td>0.0</td>\n",
       "      <td>3.80</td>\n",
       "    </tr>\n",
       "  </tbody>\n",
       "</table>\n",
       "</div>"
      ],
      "text/plain": [
       "                     Name  Exam  Practicals  Total Mark\n",
       "NIU                                                    \n",
       "111222     Davos Seaworth   6.0         5.4        5.70\n",
       "123123   Brienne of Tarth   8.5         7.5        8.00\n",
       "234234    Jaime Lannister   3.7         6.4        5.05\n",
       "345345      Catelyn Stark   9.0         8.6        8.80\n",
       "456456  Viserys Targaryen   4.0         4.6        4.30\n",
       "567567           Jon Snow   6.8         4.3        5.55\n",
       "678678      Talisa Maegyr   7.6         0.0        3.80"
      ]
     },
     "execution_count": 27,
     "metadata": {},
     "output_type": "execute_result"
    }
   ],
   "source": [
    "dfStudents.drop(\"Starfleet_1234\", inplace = True) # If we do not use inplace = True, then the function will return a view of the data\n",
    "dfStudents.drop(\"Starfleet_5678\", inplace = True)\n",
    "dfStudents"
   ]
  },
  {
   "cell_type": "markdown",
   "id": "bound-variation",
   "metadata": {},
   "source": [
    "We can now ask pandas for some quick statistics for the columns that contain numbers, by calling the function `DataFrame.describe()`"
   ]
  },
  {
   "cell_type": "code",
   "execution_count": 28,
   "id": "criminal-anthropology",
   "metadata": {},
   "outputs": [
    {
     "data": {
      "text/html": [
       "<div>\n",
       "<style scoped>\n",
       "    .dataframe tbody tr th:only-of-type {\n",
       "        vertical-align: middle;\n",
       "    }\n",
       "\n",
       "    .dataframe tbody tr th {\n",
       "        vertical-align: top;\n",
       "    }\n",
       "\n",
       "    .dataframe thead th {\n",
       "        text-align: right;\n",
       "    }\n",
       "</style>\n",
       "<table border=\"1\" class=\"dataframe\">\n",
       "  <thead>\n",
       "    <tr style=\"text-align: right;\">\n",
       "      <th></th>\n",
       "      <th>Exam</th>\n",
       "      <th>Practicals</th>\n",
       "      <th>Total Mark</th>\n",
       "    </tr>\n",
       "  </thead>\n",
       "  <tbody>\n",
       "    <tr>\n",
       "      <th>count</th>\n",
       "      <td>7.000000</td>\n",
       "      <td>7.000000</td>\n",
       "      <td>7.000000</td>\n",
       "    </tr>\n",
       "    <tr>\n",
       "      <th>mean</th>\n",
       "      <td>6.514286</td>\n",
       "      <td>5.257143</td>\n",
       "      <td>5.885714</td>\n",
       "    </tr>\n",
       "    <tr>\n",
       "      <th>std</th>\n",
       "      <td>2.077200</td>\n",
       "      <td>2.784395</td>\n",
       "      <td>1.856231</td>\n",
       "    </tr>\n",
       "    <tr>\n",
       "      <th>min</th>\n",
       "      <td>3.700000</td>\n",
       "      <td>0.000000</td>\n",
       "      <td>3.800000</td>\n",
       "    </tr>\n",
       "    <tr>\n",
       "      <th>25%</th>\n",
       "      <td>5.000000</td>\n",
       "      <td>4.450000</td>\n",
       "      <td>4.675000</td>\n",
       "    </tr>\n",
       "    <tr>\n",
       "      <th>50%</th>\n",
       "      <td>6.800000</td>\n",
       "      <td>5.400000</td>\n",
       "      <td>5.550000</td>\n",
       "    </tr>\n",
       "    <tr>\n",
       "      <th>75%</th>\n",
       "      <td>8.050000</td>\n",
       "      <td>6.950000</td>\n",
       "      <td>6.850000</td>\n",
       "    </tr>\n",
       "    <tr>\n",
       "      <th>max</th>\n",
       "      <td>9.000000</td>\n",
       "      <td>8.600000</td>\n",
       "      <td>8.800000</td>\n",
       "    </tr>\n",
       "  </tbody>\n",
       "</table>\n",
       "</div>"
      ],
      "text/plain": [
       "           Exam  Practicals  Total Mark\n",
       "count  7.000000    7.000000    7.000000\n",
       "mean   6.514286    5.257143    5.885714\n",
       "std    2.077200    2.784395    1.856231\n",
       "min    3.700000    0.000000    3.800000\n",
       "25%    5.000000    4.450000    4.675000\n",
       "50%    6.800000    5.400000    5.550000\n",
       "75%    8.050000    6.950000    6.850000\n",
       "max    9.000000    8.600000    8.800000"
      ]
     },
     "execution_count": 28,
     "metadata": {},
     "output_type": "execute_result"
    }
   ],
   "source": [
    "dfStudents.describe()"
   ]
  },
  {
   "cell_type": "markdown",
   "id": "silver-statement",
   "metadata": {},
   "source": [
    "Or for a specific series"
   ]
  },
  {
   "cell_type": "code",
   "execution_count": 29,
   "id": "environmental-difference",
   "metadata": {},
   "outputs": [
    {
     "data": {
      "text/plain": [
       "count    7.000000\n",
       "mean     5.885714\n",
       "std      1.856231\n",
       "min      3.800000\n",
       "25%      4.675000\n",
       "50%      5.550000\n",
       "75%      6.850000\n",
       "max      8.800000\n",
       "Name: Total Mark, dtype: float64"
      ]
     },
     "execution_count": 29,
     "metadata": {},
     "output_type": "execute_result"
    }
   ],
   "source": [
    "dfStudents[\"Total Mark\"].describe()"
   ]
  },
  {
   "cell_type": "markdown",
   "id": "delayed-greensboro",
   "metadata": {},
   "source": [
    "# Grading students (work in groups)"
   ]
  },
  {
   "cell_type": "markdown",
   "id": "adapted-advice",
   "metadata": {},
   "source": [
    "This is the same problemas you did in Problems #2. You are now asked to repeat it, but using pandas.\n",
    "\n",
    "You have been given a list of students in a CSV (Comma Separated Values) file, along with the evaluation scores for a series of works they have submitted. The table of data looks like this:\n",
    "\n",
    "| student_id                           | Score  | Submission_Time  |\n",
    "| ------------------------------------ |:------:| ----------------:|\n",
    "| B73F2C11-70F0-E37D-8B10-1D20AFED50B1 | 92.7   | 02/11/2015 06:55 |\n",
    "| 98A0FAE0-A19A-13D2-4BB5-CFBFD94031D1 | 86.8   | 29/11/2015 14:57 |\n",
    "| D0F62040-CEB0-904C-F563-2F8620916C4E | 85.5   | 09/01/2016 05:36 |\n",
    "| FFDF2B2C-F514-EF7F-6538-A6A53518E9DC | 86.0   | 30/04/2016 06:50 |\n",
    "| 5ECBEEB6-F1CE-80AE-3164-E45E99473FB4 | 64.8   | 13/12/2015 17:06 |\n",
    "| ... | ... | ... |\n",
    "\n",
    "\n",
    "In this exercise we will import and manipulate this data. A lot of code is already given. When code is asked for, this is indicated <font color=blue>in blue</font>."
   ]
  },
  {
   "cell_type": "markdown",
   "id": "experienced-ordinance",
   "metadata": {},
   "source": [
    "<br>\n",
    "\n",
    "First, let's get the data in from a csv file. To do this with pandas we will use the following code. At the time of opening the file, we can specify to panda how to treat different columns. Here we say that want the column called \"student_id\" to be the index columns, and also that the submission time should be parsed as a date"
   ]
  },
  {
   "cell_type": "code",
   "execution_count": 30,
   "id": "statutory-image",
   "metadata": {},
   "outputs": [],
   "source": [
    "grades = pd.read_csv(\"grades.csv\", parse_dates=['Submission_Time'], dayfirst=True)"
   ]
  },
  {
   "cell_type": "code",
   "execution_count": 31,
   "id": "wooden-crawford",
   "metadata": {},
   "outputs": [
    {
     "name": "stdout",
     "output_type": "stream",
     "text": [
      "<class 'pandas.core.frame.DataFrame'>\n",
      "RangeIndex: 2315 entries, 0 to 2314\n",
      "Data columns (total 3 columns):\n",
      " #   Column           Non-Null Count  Dtype         \n",
      "---  ------           --------------  -----         \n",
      " 0   student_id       2315 non-null   object        \n",
      " 1   Score            2315 non-null   float64       \n",
      " 2   Submission_Time  2315 non-null   datetime64[ns]\n",
      "dtypes: datetime64[ns](1), float64(1), object(1)\n",
      "memory usage: 54.4+ KB\n"
     ]
    }
   ],
   "source": [
    "grades.info()"
   ]
  },
  {
   "cell_type": "markdown",
   "id": "raising-exhibition",
   "metadata": {},
   "source": [
    "We read 2315 rows and 3 columns. Note that the Submission_Time column is of type `datetime64`. This is type of numpy, you can read more about it here\n",
    "\n",
    "https://numpy.org/doc/stable/reference/arrays.datetime.html\n",
    "\n",
    "Let's have a look at the first few entries"
   ]
  },
  {
   "cell_type": "code",
   "execution_count": 32,
   "id": "reflected-gilbert",
   "metadata": {},
   "outputs": [
    {
     "data": {
      "text/html": [
       "<div>\n",
       "<style scoped>\n",
       "    .dataframe tbody tr th:only-of-type {\n",
       "        vertical-align: middle;\n",
       "    }\n",
       "\n",
       "    .dataframe tbody tr th {\n",
       "        vertical-align: top;\n",
       "    }\n",
       "\n",
       "    .dataframe thead th {\n",
       "        text-align: right;\n",
       "    }\n",
       "</style>\n",
       "<table border=\"1\" class=\"dataframe\">\n",
       "  <thead>\n",
       "    <tr style=\"text-align: right;\">\n",
       "      <th></th>\n",
       "      <th>student_id</th>\n",
       "      <th>Score</th>\n",
       "      <th>Submission_Time</th>\n",
       "    </tr>\n",
       "  </thead>\n",
       "  <tbody>\n",
       "    <tr>\n",
       "      <th>0</th>\n",
       "      <td>B73F2C11-70F0-E37D-8B10-1D20AFED50B1</td>\n",
       "      <td>92.7</td>\n",
       "      <td>2015-11-02 06:55:34</td>\n",
       "    </tr>\n",
       "    <tr>\n",
       "      <th>1</th>\n",
       "      <td>98A0FAE0-A19A-13D2-4BB5-CFBFD94031D1</td>\n",
       "      <td>86.8</td>\n",
       "      <td>2015-11-29 14:57:44</td>\n",
       "    </tr>\n",
       "    <tr>\n",
       "      <th>2</th>\n",
       "      <td>D0F62040-CEB0-904C-F563-2F8620916C4E</td>\n",
       "      <td>85.5</td>\n",
       "      <td>2016-01-09 05:36:02</td>\n",
       "    </tr>\n",
       "    <tr>\n",
       "      <th>3</th>\n",
       "      <td>FFDF2B2C-F514-EF7F-6538-A6A53518E9DC</td>\n",
       "      <td>86.0</td>\n",
       "      <td>2016-04-30 06:50:40</td>\n",
       "    </tr>\n",
       "    <tr>\n",
       "      <th>4</th>\n",
       "      <td>5ECBEEB6-F1CE-80AE-3164-E45E99473FB4</td>\n",
       "      <td>64.8</td>\n",
       "      <td>2015-12-13 17:06:11</td>\n",
       "    </tr>\n",
       "  </tbody>\n",
       "</table>\n",
       "</div>"
      ],
      "text/plain": [
       "                             student_id  Score     Submission_Time\n",
       "0  B73F2C11-70F0-E37D-8B10-1D20AFED50B1   92.7 2015-11-02 06:55:34\n",
       "1  98A0FAE0-A19A-13D2-4BB5-CFBFD94031D1   86.8 2015-11-29 14:57:44\n",
       "2  D0F62040-CEB0-904C-F563-2F8620916C4E   85.5 2016-01-09 05:36:02\n",
       "3  FFDF2B2C-F514-EF7F-6538-A6A53518E9DC   86.0 2016-04-30 06:50:40\n",
       "4  5ECBEEB6-F1CE-80AE-3164-E45E99473FB4   64.8 2015-12-13 17:06:11"
      ]
     },
     "execution_count": 32,
     "metadata": {},
     "output_type": "execute_result"
    }
   ],
   "source": [
    "grades.head()"
   ]
  },
  {
   "cell_type": "markdown",
   "id": "foster-budapest",
   "metadata": {},
   "source": [
    "<br>\n",
    "\n",
    "<font color=\"blue\">**Exercise** Print out the students that scored below 20 or above 99.5</font>"
   ]
  },
  {
   "cell_type": "code",
   "execution_count": 33,
   "id": "occasional-matthew",
   "metadata": {
    "scrolled": true
   },
   "outputs": [],
   "source": [
    "# Your Code Here\n"
   ]
  },
  {
   "cell_type": "markdown",
   "id": "atomic-belief",
   "metadata": {},
   "source": [
    "<font color=blue>**Exercise** Filter out the students that submitted their work after 2015-12-31. We give you the deadline definition below.</font>"
   ]
  },
  {
   "cell_type": "code",
   "execution_count": 34,
   "id": "simple-douglas",
   "metadata": {},
   "outputs": [],
   "source": [
    "import numpy as np\n",
    "deadline = np.datetime64('2015-12-31')"
   ]
  },
  {
   "cell_type": "code",
   "execution_count": 35,
   "id": "offensive-gallery",
   "metadata": {
    "scrolled": true
   },
   "outputs": [],
   "source": [
    "# Your Code Here\n"
   ]
  },
  {
   "cell_type": "markdown",
   "id": "banner-place",
   "metadata": {},
   "source": [
    "<br>\n",
    "\n",
    "Now let's find the best performing and the worst performing student (of the ones that submitted their work on time).\n",
    "\n",
    "<font color=blue>**Exercise** Find the minimum and the maximum Score.</font>"
   ]
  },
  {
   "cell_type": "code",
   "execution_count": 36,
   "id": "vanilla-horse",
   "metadata": {},
   "outputs": [],
   "source": [
    "# Your Code Here\n"
   ]
  },
  {
   "cell_type": "markdown",
   "id": "documented-simpson",
   "metadata": {},
   "source": [
    "<br>\n",
    "\n",
    "<font color=blue>**Exercise** Retrieve the students with the lowest and highest scores</font>"
   ]
  },
  {
   "cell_type": "code",
   "execution_count": 37,
   "id": "contained-globe",
   "metadata": {},
   "outputs": [],
   "source": [
    "# Your Code Here\n"
   ]
  },
  {
   "cell_type": "markdown",
   "id": "tested-remedy",
   "metadata": {},
   "source": [
    "<br>\n",
    "\n",
    "<font color=blue>**Exercise** Find the average the median and the quantile values for the class scores.</font>\n",
    "\n",
    "> *Hint: use `describe()`*"
   ]
  },
  {
   "cell_type": "code",
   "execution_count": 38,
   "id": "hydraulic-charter",
   "metadata": {},
   "outputs": [],
   "source": [
    "# Your Code Here\n"
   ]
  },
  {
   "cell_type": "markdown",
   "id": "acquired-governor",
   "metadata": {},
   "source": [
    "<br>\n",
    "\n",
    "<font color=blue>**Exercise** Plot the histogram of scores of all students.</font>"
   ]
  },
  {
   "cell_type": "code",
   "execution_count": 39,
   "id": "micro-laundry",
   "metadata": {},
   "outputs": [],
   "source": [
    "# Your Code Here\n"
   ]
  }
 ],
 "metadata": {
  "kernelspec": {
   "display_name": "Python 3",
   "language": "python",
   "name": "python3"
  },
  "language_info": {
   "codemirror_mode": {
    "name": "ipython",
    "version": 3
   },
   "file_extension": ".py",
   "mimetype": "text/x-python",
   "name": "python",
   "nbconvert_exporter": "python",
   "pygments_lexer": "ipython3",
   "version": "3.7.9"
  }
 },
 "nbformat": 4,
 "nbformat_minor": 5
}
