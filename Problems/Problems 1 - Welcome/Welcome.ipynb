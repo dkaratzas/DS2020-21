{
 "cells": [
  {
   "cell_type": "markdown",
   "metadata": {},
   "source": [
    "# Welcome to Python Notebooks\n",
    "\n",
    "Python notebooks are a series of \"cells\" that can contain either text (like the one you are reading right now) or code (like the one just next).\n",
    "\n",
    "To run the code in a code cell, position your cursor on it, and the click SHIFT+ENTER, or click the \"play\" button above.\n",
    "\n",
    "Try it now, with the cell below."
   ]
  },
  {
   "cell_type": "code",
   "execution_count": null,
   "metadata": {},
   "outputs": [],
   "source": [
    "print(\"Hello World\")"
   ]
  },
  {
   "cell_type": "markdown",
   "metadata": {},
   "source": [
    "Now try to change the code above, to print out your name. Just copy and paste the code above to the code cell below and edit it. Then run it. Note that in Python any line that starts with # is a comment."
   ]
  },
  {
   "cell_type": "code",
   "execution_count": null,
   "metadata": {},
   "outputs": [],
   "source": [
    "# Add your code here\n",
    "\n"
   ]
  },
  {
   "cell_type": "markdown",
   "metadata": {},
   "source": [
    "Now try to add your own code cell. Click once on this cell you are reading, and then click on the plus (+) button in the menu above. This should add a new cell just below the one currently in focus. If you do it right, the new cell should appear between the arrows.\n",
    "\n",
    "&#8595;"
   ]
  },
  {
   "cell_type": "markdown",
   "metadata": {},
   "source": [
    "&#8593;\n",
    "\n",
    "Have you managed? If your new cell did not appear where you expected it to be, you can use the up and down arrow buttons in the menu to move it around."
   ]
  },
  {
   "cell_type": "markdown",
   "metadata": {},
   "source": [
    "Another type of cells of interest are the so-called \"markdown\" cells. These cells contain text, which can be formatted using a simple markdown language. The cell you are reading right now, is a markdown cell.\n",
    "\n",
    "Now, try to create your own markdown cell. Do the same like before to create a new cell. When a new cell is created, it is a code cell by default. We should therefore change its type to \"markdown\". To do so, while you are editing the cell, select \"markdown\" in the dropdown menu above.\n",
    "\n",
    "&#8595;"
   ]
  },
  {
   "cell_type": "markdown",
   "metadata": {},
   "source": [
    "&#8593;"
   ]
  },
  {
   "cell_type": "markdown",
   "metadata": {},
   "source": [
    "Now try to write some text in the newly created cell. Then press SHIFT+ENTER to \"run it\" - which means to apply formatting to your text.\n",
    "\n",
    "There are a lot of ways to format your text, for example, you can use the following syntax to add a heading. Go back to your cell and try this out.\n",
    "\n",
    "```markdown\n",
    "# Heading 1\n",
    "## Heading 2\n",
    "### Heading 3\n",
    "```"
   ]
  },
  {
   "cell_type": "markdown",
   "metadata": {},
   "source": [
    "Before we get on with with the practical sessions and more advanced problems next week, please familiarise yourselves with notebooks reading through the introductory text about Python notebooks you can find here (or search for more documentation online):\n",
    "\n",
    "https://realpython.com/jupyter-notebook-introduction/"
   ]
  },
  {
   "cell_type": "code",
   "execution_count": null,
   "metadata": {},
   "outputs": [],
   "source": []
  }
 ],
 "metadata": {
  "kernelspec": {
   "display_name": "Python 3",
   "language": "python",
   "name": "python3"
  },
  "language_info": {
   "codemirror_mode": {
    "name": "ipython",
    "version": 3
   },
   "file_extension": ".py",
   "mimetype": "text/x-python",
   "name": "python",
   "nbconvert_exporter": "python",
   "pygments_lexer": "ipython3",
   "version": "3.7.9"
  }
 },
 "nbformat": 4,
 "nbformat_minor": 4
}
