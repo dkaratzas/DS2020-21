{
 "cells": [
  {
   "cell_type": "markdown",
   "metadata": {},
   "source": [
    "# Problems 4 - Polynomial Regression"
   ]
  },
  {
   "cell_type": "markdown",
   "metadata": {},
   "source": [
    "## 4.1 Interpreting Gradient Descent\n",
    "\n",
    "Suppose that for some linear regression problem we have some training set, and for our training set we managed to find some $w_0$, $w_1$ such that $J(w_0, w_1) = 0$.\n",
    "\n",
    "Which of the statements below must then be true?\n",
    "\n",
    "(A) Gradient descent is likely to get stuck at a local minimum and fail to find the global minimum.\n",
    " \n",
    "(B) For $J(w_0, w_1) = 0$ to be true, we must have $y(i) = 0$ for every value of $i = 1, 2 ,… , m$.\n",
    " \n",
    "(C) Our training set can be fit perfectly by a straight line, i.e., all of our training examples lie perfectly on some straight line.\n",
    " \n",
    "(D) For $J(w_0, w_1) = 0$ to be true, we must have $w_0 = 0$ and $w_1 = 0$ so that $h_\\w(x) = 0$"
   ]
  },
  {
   "cell_type": "markdown",
   "metadata": {},
   "source": [
    "---\n",
    "\n",
    "*Answer*\n",
    "\n",
    "(A) ...\n",
    "\n",
    "(B) ...\n",
    "\n",
    "(C) ...\n",
    "\n",
    "(D) ...\n",
    "\n",
    "---\n"
   ]
  },
  {
   "cell_type": "markdown",
   "metadata": {},
   "source": [
    "## 4.2 Normalization (Standardisation)\n",
    "\n",
    "Imagine you are given 20 samples with the following values for a feature x:"
   ]
  },
  {
   "cell_type": "code",
   "execution_count": 7,
   "metadata": {},
   "outputs": [],
   "source": [
    "import numpy as np\n",
    "\n",
    "x1 = np.array([56.73040025,  42.07755103,  83.46673661, 167.79511467,\n",
    "       128.41593193, 1620.39079195,  67.57569387, 124.50199413,\n",
    "        91.58831309, 241.75090834,  93.69791353,  80.43787513,\n",
    "        20.38769615, 171.08315486,  59.2372586 ,  15.73475339,\n",
    "       122.8934116 ,  27.26541632, 217.80864704, 150.23539618])\n",
    "\n",
    "x2 = np.array([ 0.11179419,  0.22728357, -0.08936106,  0.59369292,  0.36202046,\n",
    "        0.66546626, -0.1019957 ,  0.63595947, -0.10978375,  0.68933564,\n",
    "        0.05552168,  0.5122346 ,  0.04727783, -8.53652367,  0.60681752,\n",
    "        0.66415377,  0.68607407,  0.15515183, -0.16490555,  0.77765625])"
   ]
  },
  {
   "cell_type": "markdown",
   "metadata": {},
   "source": [
    "Note that the ranges of these two features look very different"
   ]
  },
  {
   "cell_type": "code",
   "execution_count": 8,
   "metadata": {},
   "outputs": [
    {
     "name": "stdout",
     "output_type": "stream",
     "text": [
      "Original range for feature 1: [15.73475339, 1620.39079195]\n",
      "Original range for feature 2: [-8.53652367, 0.77765625]\n"
     ]
    }
   ],
   "source": [
    "print('Original range for feature 1: [{0}, {1}]'.format(x1.min(), x1.max()))\n",
    "print('Original range for feature 2: [{0}, {1}]'.format(x2.min(), x2.max()))"
   ]
  },
  {
   "cell_type": "markdown",
   "metadata": {},
   "source": [
    "<br>\n",
    "\n",
    "First of all lets plot them along one dimension, to see what their distribution looks like. To do this, we will do a scatter plot, but will set all Y coordinates to zero."
   ]
  },
  {
   "cell_type": "code",
   "execution_count": 9,
   "metadata": {},
   "outputs": [
    {
     "data": {
      "text/plain": [
       "<matplotlib.collections.PathCollection at 0x244715425c8>"
      ]
     },
     "execution_count": 9,
     "metadata": {},
     "output_type": "execute_result"
    },
    {
     "data": {
      "image/png": "[encoded data removed]",
      "text/plain": [
       "<Figure size 432x288 with 2 Axes>"
      ]
     },
     "metadata": {
      "needs_background": "light"
     },
     "output_type": "display_data"
    }
   ],
   "source": [
    "import matplotlib.pyplot as plt\n",
    "\n",
    "f, (ax1, ax2) = plt.subplots(2, sharex=True, sharey=False)\n",
    "\n",
    "ax1.scatter(x1, np.zeros_like(x1), color = 'g', marker ='.', alpha=0.5)\n",
    "ax2.scatter(x2, np.zeros_like(x2), color = 'b', marker ='.', alpha=0.5)"
   ]
  },
  {
   "cell_type": "markdown",
   "metadata": {},
   "source": [
    "The two features are in very different ranges, while it seems that there is one value which is quite off on the right on the top plot. This is probably an *outlier*, an error in measurement for example.\n",
    "\n",
    "<font color=blue>Find the range of this data and normalise the data to $[0, 1]$ by subtracting the minimum value and dividing by the range you find.</font>"
   ]
  },
  {
   "cell_type": "code",
   "execution_count": 10,
   "metadata": {},
   "outputs": [],
   "source": [
    "# Your Code Here #\n"
   ]
  },
  {
   "cell_type": "markdown",
   "metadata": {},
   "source": [
    "<font color=blue>What do you observe? What is the effect of the outlier in the data?</blue>"
   ]
  },
  {
   "cell_type": "markdown",
   "metadata": {},
   "source": [
    "---\n",
    "\n",
    "*Answer*\n",
    "\n",
    "---\n"
   ]
  },
  {
   "cell_type": "markdown",
   "metadata": {},
   "source": [
    "<font color=blue>Now normalize by centering the data and dividing with the standard deviation. Plot the normalised data again, what is the range? What is the effect of normalizing like this?</font>"
   ]
  },
  {
   "cell_type": "code",
   "execution_count": 11,
   "metadata": {},
   "outputs": [],
   "source": [
    "# Your Code Here #\n"
   ]
  },
  {
   "cell_type": "markdown",
   "metadata": {},
   "source": [
    "---\n",
    "\n",
    "*Answer*\n",
    "\n",
    "---\n"
   ]
  },
  {
   "cell_type": "markdown",
   "metadata": {},
   "source": [
    "We now want to remove any outliers. We will consider anything above 1000 in feature 1 or anything below -5 in feature 2 as an outlier.\n",
    "\n",
    "<font color=blue>Can you think of a way to remove the outliers? An easy way to identify these values is by using masks to index.</font>"
   ]
  },
  {
   "cell_type": "code",
   "execution_count": 12,
   "metadata": {},
   "outputs": [],
   "source": [
    "# Your Code Here #\n"
   ]
  },
  {
   "cell_type": "markdown",
   "metadata": {},
   "source": [
    "## 4.3 Multiple Linear Regression with Normalisation\n",
    "\n",
    "Let's revisit the problem of house prices that we saw last week. The task to be done is to predict the price of a house given some 'features' of the house. Our input data comprises two features per sample (size of the house, and number of rooms), while the output data is the price of each sample.\n",
    "\n",
    "Here is the data:\n",
    "\n",
    "| Size (square feet) | Rooms | Price (USD) |Size (square feet) | Rooms | Price (USD) |Size (square feet) | Rooms | Price (USD) |Size (square feet) | Rooms | Price (USD) |\n",
    "|:------ |:----|:----------|:------ |:----|:----------|:------ |:----|:----------|:------ |:----|:----------|\n",
    "| 2104.0 | 3.0 |  **399900.0** | 1890.0 | 3.0 |  **329999.0** | 3890.0 | 3.0 |  **573900.0** | 1239.0 | 3.0 |  **229900.0** |\n",
    "| 1600.0 | 3.0 |  **329900.0** | 4478.0 | 5.0 |  **699900.0** | 1100.0 | 3.0 |  **249900.0** | 2132.0 | 4.0 |  **345000.0** |\n",
    "| 2400.0 | 3.0 |  **369000.0** | 1268.0 | 3.0 |  **259900.0** | 1458.0 | 3.0 |  **464500.0** | 4215.0 | 4.0 |  **549000.0** | \n",
    "| 1416.0 | 2.0 |  **232000.0** | 2300.0 | 4.0 |  **449900.0** | 2526.0 | 3.0 |  **469000.0** | 2162.0 | 4.0 |  **287000.0** |\n",
    "| 3000.0 | 4.0 |  **539900.0** | 1320.0 | 2.0 |  **299900.0** | 2200.0 | 3.0 |  **475000.0** | 1664.0 | 2.0 |  **368500.0** | \n",
    "| 1985.0 | 4.0 |  **299900.0** | 1236.0 | 3.0 |  **199900.0** | 2637.0 | 3.0 |  **299900.0** | 2238.0 | 3.0 |  **329900.0** | \n",
    "| 1534.0 | 3.0 |  **314900.0** | 2609.0 | 4.0 |  **499998.0** | 1839.0 | 2.0 |  **349900.0** | 2567.0 | 4.0 |  **314000.0** | \n",
    "| 1427.0 | 3.0 |  **198999.0** | 3031.0 | 4.0 |  **599000.0** | 1000.0 | 1.0 |  **169900.0** | 1200.0 | 3.0 |  **299000.0** | \n",
    "| 1380.0 | 3.0 |  **212000.0** | 1767.0 | 3.0 |  **252900.0** | 2040.0 | 4.0 |  **314900.0** | 852.0  | 2.0 |  **179900.0** | \n",
    "| 1494.0 | 3.0 |  **242500.0** | 1888.0 | 2.0 |  **255000.0** | 3137.0 | 3.0 |  **579900.0** | 1852.0 | 4.0 |  **299900.0** | \n",
    "| 1940.0 | 4.0 |  **239999.0** | 1604.0 | 3.0 |  **242900.0** | 1811.0 | 4.0 |  **285900.0** | 1203.0 | 3.0 |  **239500.0** | \n",
    "| 2000.0 | 3.0 |  **347000.0** | 1962.0 | 4.0 |  **259900.0** | 1437.0 | 3.0 |  **249900.0** | \n",
    " \n",
    "Let's first get them into Python. For simplification we are going to use only one feature for the time being - the size of the house."
   ]
  },
  {
   "cell_type": "code",
   "execution_count": 13,
   "metadata": {},
   "outputs": [],
   "source": [
    "size = np.array([2104., 1600., 2400., 1416., 3000., 1985., 1534., 1427., 1380., \n",
    "       1494., 1940., 2000., 1890., 4478., 1268., 2300., 1320., 1236.,\n",
    "       2609., 3031., 1767., 1888., 1604., 1962., 3890., 1100., 1458.,\n",
    "       2526., 2200., 2637., 1839., 1000., 2040., 3137., 1811., 1437.,\n",
    "       1239., 2132., 4215., 2162., 1664., 2238., 2567., 1200.,  852.,\n",
    "       1852., 1203.])\n",
    "\n",
    "rooms = np.array([3., 3., 3., 2., 4., 4., 3., 3., 3., 3., 4., 3., 3., 5., 3., 4., 2.,\n",
    "       3., 4., 4., 3., 2., 3., 4., 3., 3., 3., 3., 3., 3., 2., 1., 4., 3.,\n",
    "       4., 3., 3., 4., 4., 4., 2., 3., 4., 3., 2., 4., 3.])\n",
    "\n",
    "price = np.array([399900., 329900., 369000., 232000., 539900., 299900., 314900.,\n",
    "       198999., 212000., 242500., 239999., 347000., 329999., 699900.,\n",
    "       259900., 449900., 299900., 199900., 499998., 599000., 252900.,\n",
    "       255000., 242900., 259900., 573900., 249900., 464500., 469000.,\n",
    "       475000., 299900., 349900., 169900., 314900., 579900., 285900.,\n",
    "       249900., 229900., 345000., 549000., 287000., 368500., 329900.,\n",
    "       314000., 299000., 179900., 299900., 239500.])"
   ]
  },
  {
   "cell_type": "markdown",
   "metadata": {},
   "source": [
    "The gradient descent function we used last time is the following. We have done a small modification to store and return the cost in every iteration, so that we can then plot the evolution of the cost during the optimisation (training) process."
   ]
  },
  {
   "cell_type": "code",
   "execution_count": 14,
   "metadata": {},
   "outputs": [
    {
     "name": "stdout",
     "output_type": "stream",
     "text": [
      "0.08050805332714407\n",
      "163.9249033496211\n"
     ]
    },
    {
     "data": {
      "text/plain": [
       "[<matplotlib.lines.Line2D at 0x244748d3dc8>]"
      ]
     },
     "execution_count": 14,
     "metadata": {},
     "output_type": "execute_result"
    },
    {
     "data": {
      "image/png": "[encoded data removed]",
      "text/plain": [
       "<Figure size 432x288 with 1 Axes>"
      ]
     },
     "metadata": {
      "needs_background": "light"
     },
     "output_type": "display_data"
    }
   ],
   "source": [
    "def GradientDescent(x, y, max_iterations=100, alpha=1):\n",
    "    m = len(x) # number of samples\n",
    "    J = np.zeros(max_iterations)\n",
    "   \n",
    "    #initialize the parameters to zero (or any other random value)\n",
    "    w0 = 0\n",
    "    w1 = 0\n",
    "    \n",
    "    for it in range(max_iterations): #lets take a max of max_iteration steps updating the parameters\n",
    "        s0 = 0 # We will use this to calculate the sum inside the cost function\n",
    "        s1 = 0\n",
    "        for i in range(m): #Go over the points and calculate the sum\n",
    "            h = w0 + w1 * x[i]\n",
    "            s0 = s0 + (h - y[i])\n",
    "            s1 = s1 + (h - y[i])* x[i]\n",
    "            J[it] = J[it]+(h - y[i])**2\n",
    "        Grad0 = s0 / m \n",
    "        Grad1 = s1 / m \n",
    "        J[it] /= 2*m\n",
    "        \n",
    "        w0 = w0 - alpha * Grad0\n",
    "        w1 = w1 - alpha * Grad1\n",
    "        \n",
    "    return [w0, w1, J]\n",
    "    \n",
    "[w0, w1, J] = GradientDescent(size, price, alpha=0.00000001)\n",
    "\n",
    "print(w0)\n",
    "print(w1)\n",
    "plt.plot(np.arange(len(J)), J, 'bo')"
   ]
  },
  {
   "cell_type": "markdown",
   "metadata": {},
   "source": [
    "<font color=blue>Use the above function with different initial values for the ws. What do you observe?</font>"
   ]
  },
  {
   "cell_type": "markdown",
   "metadata": {},
   "source": [
    "---\n",
    "\n",
    "*Answer*\n",
    "\n",
    "---\n"
   ]
  },
  {
   "cell_type": "markdown",
   "metadata": {},
   "source": [
    "<font color=blue>Now normalise your data and do the gradient descent again. What do you observe in terms of the alpha required? What do you observe in terms of the final values obtained.</font>"
   ]
  },
  {
   "cell_type": "code",
   "execution_count": 15,
   "metadata": {},
   "outputs": [],
   "source": [
    "# Your Code Here #\n"
   ]
  },
  {
   "cell_type": "markdown",
   "metadata": {},
   "source": [
    "---\n",
    "\n",
    "*Answer*\n",
    "\n",
    "---"
   ]
  },
  {
   "cell_type": "markdown",
   "metadata": {},
   "source": [
    "<br>\n",
    "\n",
    "<font color=blue>Use the model you have calculated to predict the price of a house with `size = 3200` square feet.</font>"
   ]
  },
  {
   "cell_type": "code",
   "execution_count": 16,
   "metadata": {},
   "outputs": [],
   "source": [
    "# Your Code Here #\n"
   ]
  },
  {
   "cell_type": "markdown",
   "metadata": {},
   "source": [
    "## 4.4. Vectorising our code"
   ]
  },
  {
   "cell_type": "markdown",
   "metadata": {},
   "source": [
    "Now let's rewrite our Gradient Descent function in a slightly more efficient form, using numpy, so that it can take as input a variable number of features. X in this case will be the design matrix of size $(samples \\times (features + 1) )$ and Y will be a vector of the true outputs of size $(samples \\times 1)$"
   ]
  },
  {
   "cell_type": "code",
   "execution_count": 17,
   "metadata": {},
   "outputs": [],
   "source": [
    "def GradientDescent_np(X, y, max_iterations=100, alpha=1):\n",
    "    m, n = X.shape # number of samples, number of features\n",
    "    J = np.zeros(max_iterations)\n",
    "\n",
    "    # y must be a column vector of shape m x 1\n",
    "    y = y.reshape(m, 1)\n",
    "    \n",
    "    # Create as many parameters as features and initialize them to zero\n",
    "    w = np.zeros(shape=(n, 1))\n",
    "    \n",
    "    # Repeat for max_iterations (it would be nice to also check convergence...)\n",
    "    for iteration in range(max_iterations):\n",
    "        grad = np.dot(X.T , (np.dot(X,w) - y)) / m;\n",
    "        w = w - alpha*grad\n",
    "        J[iteration] = sum( (np.dot(X,w) - y)**2)\n",
    "    return [w, J]"
   ]
  },
  {
   "cell_type": "markdown",
   "metadata": {},
   "source": [
    "Let's use the new version of Gradient Descent to calculate the parameter values "
   ]
  },
  {
   "cell_type": "code",
   "execution_count": 18,
   "metadata": {},
   "outputs": [
    {
     "name": "stdout",
     "output_type": "stream",
     "text": [
      "[[1.000e+00 2.104e+03]\n",
      " [1.000e+00 1.600e+03]\n",
      " [1.000e+00 2.400e+03]\n",
      " [1.000e+00 1.416e+03]]\n",
      "[[ 1.          0.13000987]\n",
      " [ 1.         -0.50418984]\n",
      " [ 1.          0.50247636]\n",
      " [ 1.         -0.73572306]]\n"
     ]
    }
   ],
   "source": [
    "#prepare the design matrix, starting with a column of ones (this is the x_0 for the bias term), \n",
    "#and concatenating the size feature\n",
    "\n",
    "size = size.reshape(-1, 1) # Make it into a column vector of shape (m, 1)\n",
    "ones = np.ones_like(size) # a column vector of ones, of the same shape as \"size\"\n",
    "\n",
    "X = np.hstack( (ones, size ) )\n",
    "\n",
    "#Let's print out a few samples to verify we have done this right\n",
    "print(X[0:4, :])\n",
    "\n",
    "# Scale features and set them to zero mean (standarize)\n",
    "mu = X.mean(axis = 0) #calculate the mean for every column\n",
    "sigma = X.std(axis = 0, ddof=1) #calculate the standard deviation for every column\n",
    "\n",
    "#normalize only X1. Do not normalise X0 (the artificial first feature that we set to ones)\n",
    "X[:,1] = (X[:,1] - mu[1]) / sigma[1];\n",
    "\n",
    "#Let's print out a few samples to verify we have done this right\n",
    "print(X[0:4, :])"
   ]
  },
  {
   "cell_type": "code",
   "execution_count": 19,
   "metadata": {},
   "outputs": [
    {
     "name": "stdout",
     "output_type": "stream",
     "text": [
      "w result:  [[340403.61773803]\n",
      " [106903.9668554 ]]\n"
     ]
    },
    {
     "data": {
      "text/plain": [
       "[<matplotlib.lines.Line2D at 0x2447494e0c8>]"
      ]
     },
     "execution_count": 19,
     "metadata": {},
     "output_type": "execute_result"
    },
    {
     "data": {
      "image/png": "[encoded data removed]",
      "text/plain": [
       "<Figure size 432x288 with 1 Axes>"
      ]
     },
     "metadata": {
      "needs_background": "light"
     },
     "output_type": "display_data"
    }
   ],
   "source": [
    "[w, J] = GradientDescent_np(X, price, alpha=0.1)\n",
    "print('w result: ', w)\n",
    "\n",
    "plt.plot(np.arange(len(J)), J, 'bo')"
   ]
  },
  {
   "cell_type": "markdown",
   "metadata": {},
   "source": [
    "<font color=blue>Do the same, but this time using the rooms feature as well</font>\n",
    "\n",
    "> Hint: Notice that the vectorised code applies on any size input - it does not matter how many samples or features you have (rows or columns in your design matrix), as it all reduces to a single matrix operation"
   ]
  },
  {
   "cell_type": "code",
   "execution_count": 20,
   "metadata": {},
   "outputs": [],
   "source": [
    "# Your Code Here #\n"
   ]
  },
  {
   "cell_type": "markdown",
   "metadata": {},
   "source": [
    "## 4.5 Polynomial Regression\n",
    "\n",
    "Suppose you are given the following samples for a problem"
   ]
  },
  {
   "cell_type": "code",
   "execution_count": 21,
   "metadata": {},
   "outputs": [],
   "source": [
    "feat = np.array([3.70559436, 2.11187022, 2.13226786, 3.17189934, 2.61453101,\n",
    "       2.07442989, 0.0071344 , 0.46131173, 3.54697197, 2.62172798,\n",
    "       3.48080232, 4.77734162, 3.41456927, 0.26564345, 1.54426342,\n",
    "       2.96297344, 1.17560204, 4.824855  , 4.72524112, 4.2420044 ,\n",
    "       2.36161998, 4.20738357, 0.65555321, 1.54366829, 2.31498197,\n",
    "       3.709236  , 2.42912614, 0.68438059, 1.71768265, 1.62213085,\n",
    "       1.50209452, 0.827507  , 2.07450886, 2.24060329, 3.87450188,\n",
    "       3.9819535 , 2.61195064, 2.30315148, 3.89106801, 4.43644476,\n",
    "       3.37459385, 4.00239524, 4.69555677, 0.20327905, 4.37835862,\n",
    "       1.38281536, 2.3788225 , 3.98380478, 3.58621116, 0.73573786])\n",
    "\n",
    "out = np.array([30.96263192, 18.1353074 , 19.01322047, 27.51746967, 21.5564388 ,\n",
    "       20.36902552,  8.62646886, 11.9312829 , 30.24023043, 21.01022706,\n",
    "       26.68362214, 42.44017786, 27.8180402 , 11.75634874, 15.85208479,\n",
    "       25.40096482, 12.55474498, 42.58028011, 41.31397814, 35.26195553,\n",
    "       20.57609693, 36.59827885, 12.12148611, 15.50647546, 19.47160702,\n",
    "       30.39893467, 20.22817055, 11.57297398, 15.01927645, 16.63212174,\n",
    "       15.74075133, 12.82740801, 17.47207096, 19.72061313, 34.11748197,\n",
    "       34.68450945, 21.4326298 , 19.34466379, 32.74301104, 40.46357452,\n",
    "       28.37694081, 32.96050834, 41.22708261, 11.37357581, 36.19880559,\n",
    "       16.2084813 , 20.18300514, 34.13550541, 31.02619715, 11.07680732])"
   ]
  },
  {
   "cell_type": "markdown",
   "metadata": {},
   "source": [
    "<font color=blue>Make a plot of the above samples</font>"
   ]
  },
  {
   "cell_type": "code",
   "execution_count": 22,
   "metadata": {},
   "outputs": [
    {
     "data": {
      "text/plain": [
       "[<matplotlib.lines.Line2D at 0x244749b6a48>]"
      ]
     },
     "execution_count": 22,
     "metadata": {},
     "output_type": "execute_result"
    },
    {
     "data": {
      "image/png": "[encoded data removed]",
      "text/plain": [
       "<Figure size 432x288 with 1 Axes>"
      ]
     },
     "metadata": {
      "needs_background": "light"
     },
     "output_type": "display_data"
    }
   ],
   "source": [
    "# Your Code Here #\n",
    "\n",
    "plt.plot(feat, out, 'bo')"
   ]
  },
  {
   "cell_type": "markdown",
   "metadata": {},
   "source": [
    "<font color=blue>Use our gradient descent function to fit a linear model to this data. Plot the resulting model along with the data. What is the final cost value?</font>"
   ]
  },
  {
   "cell_type": "code",
   "execution_count": 23,
   "metadata": {},
   "outputs": [
    {
     "name": "stdout",
     "output_type": "stream",
     "text": [
      "w result:  [[24.00863319]\n",
      " [ 9.62206171]]\n",
      "Final cost:  208.93875334031785\n"
     ]
    },
    {
     "data": {
      "text/plain": [
       "[<matplotlib.lines.Line2D at 0x24474a42808>]"
      ]
     },
     "execution_count": 23,
     "metadata": {},
     "output_type": "execute_result"
    },
    {
     "data": {
      "image/png": "[encoded data removed]",
      "text/plain": [
       "<Figure size 432x288 with 1 Axes>"
      ]
     },
     "metadata": {
      "needs_background": "light"
     },
     "output_type": "display_data"
    },
    {
     "data": {
      "image/png": "[encoded data removed]",
      "text/plain": [
       "<Figure size 432x288 with 1 Axes>"
      ]
     },
     "metadata": {
      "needs_background": "light"
     },
     "output_type": "display_data"
    }
   ],
   "source": [
    "# Your Code Here #\n",
    "\n",
    "feat = feat.reshape(-1, 1) # Make it into a column vector of shape (m, 1)\n",
    "ones = np.ones_like(feat) # a column vector of ones, of the same shape as \"size\"\n",
    "\n",
    "X = np.hstack( (ones, feat) )\n",
    "\n",
    "# Scale features and set them to zero mean (standarize)\n",
    "mu = X.mean(axis = 0) #calculate the mean for every column\n",
    "sigma = X.std(axis = 0, ddof=1) #calculate the standard deviation for every column\n",
    "\n",
    "#normalize everything except X0 (the artificial first feature that we set to ones)\n",
    "X[:,1] = (X[:,1] - mu[1]) / sigma[1];\n",
    "\n",
    "[w, J] = GradientDescent_np(X, out, alpha=0.1)\n",
    "print('w result: ', w)\n",
    "\n",
    "#Plot the evolution of the cost\n",
    "plt.plot(np.arange(len(J)), J, 'bo')\n",
    "print('Final cost: ', J[-1])\n",
    "\n",
    "# Plot line y = w_0 + w_1 * x\n",
    "plt.figure()\n",
    "plt.plot(feat, out, 'bo')\n",
    "xx = np.arange(min(feat),max(feat), 0.1)\n",
    "yy = [w[0] + w[1] * (x-mu[1])/sigma[1] for x in xx]\n",
    "plt.plot(xx, yy, 'r')"
   ]
  },
  {
   "cell_type": "markdown",
   "metadata": {},
   "source": [
    "<font color=blue>Now use our gradient descent function to fit a 2-degree polynomial model to the same data. Plot the resulting model along with the data. What is the final cost value?</font>"
   ]
  },
  {
   "cell_type": "code",
   "execution_count": 24,
   "metadata": {},
   "outputs": [],
   "source": [
    "# Your Code Here #\n"
   ]
  },
  {
   "cell_type": "markdown",
   "metadata": {},
   "source": [
    "## 4.6 Higher-degree Polynomial Regression\n",
    "\n",
    "Suppose you are given the following samples for a problem:"
   ]
  },
  {
   "cell_type": "code",
   "execution_count": 25,
   "metadata": {},
   "outputs": [],
   "source": [
    "import numpy as np\n",
    "\n",
    "# This is a single feature, with 50 data points\n",
    "feat = np.array([ 3.69, -0.01,  3.92,  3.76,  4.77,  2.65, -3.2 , -3.68,  4.84,\n",
    "        2.35, -3.46,  3.36,  0.05, -2.43,  4.5 ,  2.99, -4.58, -2.38,\n",
    "        4.75, -0.99,  2.43,  1.03, -0.91,  0.49, -1.07, -4.56,  2.7 ,\n",
    "       -1.89, -4.46, -3.22,  4.11, -1.4 , -2.15, -3.08,  1.22,  4.15,\n",
    "       -3.32, -0.96,  2.28, -0.22,  1.63, -3.16,  0.57,  1.12,  0.46,\n",
    "       -4.42, -1.98, -4.59, -3.27,  3.77])\n",
    "\n",
    "# And this is the output for each of the 50 data points\n",
    "out = np.array([ -4.01526321,   4.91472839,  -6.45656423,  -2.62612898,\n",
    "        -8.51413128,   3.34151409,  12.88771229,  34.65904607,\n",
    "       -13.35431265,   4.30981981,  21.88485042,   1.12385015,\n",
    "        -2.91774249,  14.50057692,  -1.24198533,  -4.55757528,\n",
    "        45.46247156,   8.26033485, -17.30334323,  -9.70654351,\n",
    "       -11.24523311, -10.24578944,   2.52139723,   9.46442395,\n",
    "        -2.6732785 ,  47.77493771,  -1.3560507 ,  -3.87657515,\n",
    "        47.12672411,  19.07990287,  -0.9455647 ,   0.35427309,\n",
    "         9.80390966,  19.42353943,   3.11970979,   3.44865065,\n",
    "        21.42035593,  -7.88242488,   5.64544367,  10.20227577,\n",
    "        -0.62195752,  14.75901715,   9.12831525,   7.21057155,\n",
    "         4.53708356,  45.98559999,  -3.86594125,  50.79311745,\n",
    "        25.99250789,  -3.46524068])"
   ]
  },
  {
   "cell_type": "markdown",
   "metadata": {},
   "source": [
    "Let's make a plot of the above samples"
   ]
  },
  {
   "cell_type": "code",
   "execution_count": 26,
   "metadata": {},
   "outputs": [
    {
     "data": {
      "text/plain": [
       "[<matplotlib.lines.Line2D at 0x2447498a048>]"
      ]
     },
     "execution_count": 26,
     "metadata": {},
     "output_type": "execute_result"
    },
    {
     "data": {
      "image/png": "[encoded data removed]",
      "text/plain": [
       "<Figure size 432x288 with 1 Axes>"
      ]
     },
     "metadata": {
      "needs_background": "light"
     },
     "output_type": "display_data"
    }
   ],
   "source": [
    "import matplotlib.pyplot as plt\n",
    "\n",
    "plt.plot(feat, out, 'ro') # Plot the feature versus the output, using big red circles"
   ]
  },
  {
   "cell_type": "markdown",
   "metadata": {},
   "source": [
    "In order to use the linear gradient descent above to fit a polynomial, what we have to do is generate new features, from the existing ones. For example we could generate a new feature $feat_2$ and calculate its values as the square of $feat$: $feat_2 = feat^2$.\n",
    "\n",
    "Similarly we could create more new features like:\n",
    "\n",
    "$feat_3 = feat^3$\n",
    "\n",
    "$feat_4 = feat^4$\n",
    "\n",
    "$...$\n",
    "\n",
    "Then we would have to normalise each of these new features, using its mean and standard deviation."
   ]
  },
  {
   "cell_type": "markdown",
   "metadata": {},
   "source": [
    "To make our life easier, we will define a function that automates this process. It creates features up to a degree, calculates the means and standard deviations, and uses them to normalise them. The output would be the new design matrix for our problem.\n",
    "\n",
    "Remember that once we calcualte our model, we should use the same procedure to generate and normalise features for new data points (our test set) before we feed them in the model. For this we would need to keep track of the means and standard deviations we used in the first place. Therefore, we can make our function return also these means and standard deviations so that we can keep them in a safe place. Finally, we can make our function use our pre-calculated means and standard deviations when we want to, instead of calculating new ones. So when we apply it on our test set, we can ask it to use the same means and standard deviations that we used for the training set.\n",
    "\n",
    "You can skip this part and just use this function as is."
   ]
  },
  {
   "cell_type": "code",
   "execution_count": 27,
   "metadata": {},
   "outputs": [],
   "source": [
    "def map_feature(x, degree = 6, preCalcMeans = None, preCalcStd = None):\n",
    "    '''\n",
    "    Maps a single 1D feature to polynomial features up to the degree given\n",
    "    Returns a new feature vector comprising of\n",
    "    1, x, x^2, x^3, ..., x^degree\n",
    "    '''\n",
    "    \n",
    "    x = x.reshape(-1, 1) #make into a vector if it has any other shape. The function size returns the number of elements in an array\n",
    "    \n",
    "    DesignMatrix = np.ones_like(x) # start with a column of ones\n",
    "    \n",
    "    for i in range(1, degree + 1):\n",
    "            c = x ** i\n",
    "            DesignMatrix = np.append(DesignMatrix, c, axis=1)\n",
    "\n",
    "    # Calculate means and standard deviation if not provided\n",
    "    if preCalcMeans is None:\n",
    "        mu = DesignMatrix.mean(axis = 0)\n",
    "    else:\n",
    "        mu = preCalcMeans\n",
    "        \n",
    "    if preCalcStd is None:\n",
    "        sigma = DesignMatrix.std(axis = 0, ddof=1)\n",
    "    else:\n",
    "        sigma = preCalcStd\n",
    "    \n",
    "    # Standardise\n",
    "    for i in range(1, degree + 1):\n",
    "        DesignMatrix[:,i] = (DesignMatrix[:,i] - mu[i]) / sigma[i]\n",
    "                \n",
    "    return DesignMatrix, mu, sigma"
   ]
  },
  {
   "cell_type": "markdown",
   "metadata": {},
   "source": [
    "Let's create such new features up to the power of 2."
   ]
  },
  {
   "cell_type": "code",
   "execution_count": 28,
   "metadata": {},
   "outputs": [
    {
     "name": "stdout",
     "output_type": "stream",
     "text": [
      "Shape of design matrix:  (50, 3)\n",
      "Shape of means (and sigma):  (3,)\n"
     ]
    }
   ],
   "source": [
    "X, mu, sigma = map_feature(feat, degree = 2)\n",
    "print(\"Shape of design matrix: \", X.shape) # Expected shape = (# of samples, # features + 1)\n",
    "print(\"Shape of means (and sigma): \", mu.shape) # Expected shape = # features + 1"
   ]
  },
  {
   "cell_type": "markdown",
   "metadata": {},
   "source": [
    "Let's now use our gradient descent function to fit a 2-degree polynomial model to the same data. To do this, we should pass to the function the set of features up to the power of 2: `[1, feat, feat2]`"
   ]
  },
  {
   "cell_type": "code",
   "execution_count": 29,
   "metadata": {},
   "outputs": [
    {
     "name": "stdout",
     "output_type": "stream",
     "text": [
      "Estimated weights:  [[  7.84509192]\n",
      " [-13.60627612]\n",
      " [  7.01751284]]\n"
     ]
    },
    {
     "data": {
      "text/plain": [
       "[<matplotlib.lines.Line2D at 0x24474b1e0c8>]"
      ]
     },
     "execution_count": 29,
     "metadata": {},
     "output_type": "execute_result"
    },
    {
     "data": {
      "image/png": "[encoded data removed]",
      "text/plain": [
       "<Figure size 432x288 with 1 Axes>"
      ]
     },
     "metadata": {
      "needs_background": "light"
     },
     "output_type": "display_data"
    },
    {
     "data": {
      "image/png": "[encoded data removed]",
      "text/plain": [
       "<Figure size 432x288 with 1 Axes>"
      ]
     },
     "metadata": {
      "needs_background": "light"
     },
     "output_type": "display_data"
    }
   ],
   "source": [
    "X, mu, sigma = map_feature(feat, degree = 2)\n",
    "\n",
    "w, J = GradientDescent_np(X, out, alpha=0.1)\n",
    "\n",
    "print('Estimated weights: ', w)  # Since we passed it three features (3 columns in our design matrix), we expect to receive three weight values\n",
    "\n",
    "#Plot the evolution of the cost\n",
    "plt.plot(np.arange(len(J)), J, 'bo')  # To plot the evolution of the Cost (J) we use as x a list of numbers from 1 to the number of elements inside J, and as y the values in J\n",
    "\n",
    "# Plot line y = w0 + w1 * x + w2 * x^2\n",
    "plt.figure() # We first create a new figure, otherwise it will include this plot in the previous one\n",
    "plt.plot(feat, out, 'ro') # Here we plot the original feature vs out of our data as big red circles\n",
    "\n",
    "# To plot our solution, we need to use the Thetas we have been given and calculate our estimated output for a series of points\n",
    "xx = np.arange(feat.min(),feat.max(), 0.1) # Let's first define a series of points: from the minimum value of the original feature to the maximum value, every 0.1\n",
    "\n",
    "# Now for each of our points in the range defined above, we need to calculate what our model gives us\n",
    "# IMPORTANT: in order to pass the values in xx through our model, we need to create and normalise polynomial features in the same way as before!\n",
    "\n",
    "yy = [w[0] + w[1] * (x-mu[1])/sigma[1] + w[2] * (x**2-mu[2])/w[2] for x in xx] # This is a pretty inefficient way to do this\n",
    "\n",
    "plt.plot(xx, yy, 'g') # Now we can plot our points in the range vs the estimated value calculated by our model, connected by a green line"
   ]
  },
  {
   "cell_type": "markdown",
   "metadata": {},
   "source": [
    "Let's look in a more efficient way to pass new data through our model. We will create and normalise new features using the same `map_feature()` function, and the pre-calculated means and standard deviations. Then it should be just a matter of calculating a weighted sum (or else a dot product, vectorising this operation). It is important to see that\n",
    "\n",
    "$y = w_0 + w_1 * x + w_2 * x^2$\n",
    "\n",
    "is equivalent to \n",
    "\n",
    "$y = w_0 * x_0 + w_1 * x_1 + w_2 * x_2$, where $x_0 = 1$, $x_1 = x$ and $x_2 = x^2$\n",
    "\n",
    "Importantly, doing this in this vectorised form, allows us to change the number of dimensions (degrees) without having to change our code."
   ]
  },
  {
   "cell_type": "code",
   "execution_count": 30,
   "metadata": {},
   "outputs": [
    {
     "data": {
      "image/png": "[encoded data removed]",
      "text/plain": [
       "<Figure size 432x288 with 1 Axes>"
      ]
     },
     "metadata": {
      "needs_background": "light"
     },
     "output_type": "display_data"
    }
   ],
   "source": [
    "# To plot our solution, we need to use the Thetas we have been given and calculate our estimated output for a series of points\n",
    "xx = np.arange(feat.min(),feat.max(), 0.1) # Let's first define a series of points: from the minimum value of the original feature to the maximum value, every 0.1\n",
    "\n",
    "X, mu, sigma = map_feature(xx, degree = 2, preCalcMeans = mu, preCalcStd = sigma)\n",
    "yy = X @ w # @ is the operator for matrix multiplication. This is equivalent to yy = np.matmul(X, w)\n",
    "\n",
    "plt.figure() # We first create a new figure, otherwise it will include this plot in the previous one\n",
    "plt.plot(feat, out, 'ro') # Here we plot the original feature vs out of our data as big red circles\n",
    "plt.plot(xx, yy, 'g') # Now we can plot our points in the range vs the estimated value calculated by our model, connected by a green line\n",
    "plt.show()"
   ]
  },
  {
   "cell_type": "markdown",
   "metadata": {},
   "source": [
    "<font color=blue>What is the final cost value of the above fit?</font>"
   ]
  },
  {
   "cell_type": "code",
   "execution_count": 31,
   "metadata": {},
   "outputs": [],
   "source": [
    "#Your Code Here#\n"
   ]
  },
  {
   "cell_type": "markdown",
   "metadata": {},
   "source": [
    "<font color=blue>Can you fit a 3-degree polynomial and a 4-degree polynomial? What is the final cost value in these cases? HINT: to fit higher order polynomials you should just give more columns to your gradient descent, to include the corresponding 3-degree and 4-degree features.</font>"
   ]
  },
  {
   "cell_type": "code",
   "execution_count": 32,
   "metadata": {},
   "outputs": [],
   "source": [
    "#Your Code Here#\n"
   ]
  },
  {
   "cell_type": "markdown",
   "metadata": {},
   "source": [
    "<font color=blue> Can you reuse the above code to create the appropriate design matrices and try to fit polynomials of up to degree 15? How does the final cost change as you try polynomials of higher degrees?</font>"
   ]
  },
  {
   "cell_type": "code",
   "execution_count": 33,
   "metadata": {},
   "outputs": [],
   "source": [
    "#Your Code Here#\n"
   ]
  }
 ],
 "metadata": {
  "kernelspec": {
   "display_name": "Python 3",
   "language": "python",
   "name": "python3"
  },
  "language_info": {
   "codemirror_mode": {
    "name": "ipython",
    "version": 3
   },
   "file_extension": ".py",
   "mimetype": "text/x-python",
   "name": "python",
   "nbconvert_exporter": "python",
   "pygments_lexer": "ipython3",
   "version": "3.7.9"
  }
 },
 "nbformat": 4,
 "nbformat_minor": 4
}
